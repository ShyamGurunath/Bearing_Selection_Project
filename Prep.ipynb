{
 "cells": [
  {
   "cell_type": "code",
   "execution_count": null,
   "metadata": {},
   "outputs": [],
   "source": [
    "import pandas as pd\n",
    "import numpy as np"
   ]
  },
  {
   "cell_type": "code",
   "execution_count": 2,
   "metadata": {},
   "outputs": [],
   "source": [
    "e = pd.read_excel(\"equilent_load.xlsx\")"
   ]
  },
  {
   "cell_type": "code",
   "execution_count": 3,
   "metadata": {},
   "outputs": [],
   "source": [
    "e.to_csv(\"fafrratio.csv\",header=1)"
   ]
  },
  {
   "cell_type": "code",
   "execution_count": 4,
   "metadata": {},
   "outputs": [
    {
     "data": {
      "text/html": [
       "<div>\n",
       "<style scoped>\n",
       "    .dataframe tbody tr th:only-of-type {\n",
       "        vertical-align: middle;\n",
       "    }\n",
       "\n",
       "    .dataframe tbody tr th {\n",
       "        vertical-align: top;\n",
       "    }\n",
       "\n",
       "    .dataframe thead th {\n",
       "        text-align: right;\n",
       "    }\n",
       "</style>\n",
       "<table border=\"1\" class=\"dataframe\">\n",
       "  <thead>\n",
       "    <tr style=\"text-align: right;\">\n",
       "      <th></th>\n",
       "      <th>Fa/C0</th>\n",
       "      <th>X_e_less</th>\n",
       "      <th>Y_e_less</th>\n",
       "      <th>X_e_great</th>\n",
       "      <th>Y_e_great</th>\n",
       "      <th>e</th>\n",
       "    </tr>\n",
       "  </thead>\n",
       "  <tbody>\n",
       "    <tr>\n",
       "      <th>1</th>\n",
       "      <td>0.0025</td>\n",
       "      <td>1</td>\n",
       "      <td>0</td>\n",
       "      <td>0.56</td>\n",
       "      <td>2</td>\n",
       "      <td>0.22</td>\n",
       "    </tr>\n",
       "    <tr>\n",
       "      <th>2</th>\n",
       "      <td>0.04</td>\n",
       "      <td>1</td>\n",
       "      <td>0</td>\n",
       "      <td>0.56</td>\n",
       "      <td>1.8</td>\n",
       "      <td>0.247</td>\n",
       "    </tr>\n",
       "    <tr>\n",
       "      <th>3</th>\n",
       "      <td>0.07</td>\n",
       "      <td>1</td>\n",
       "      <td>0</td>\n",
       "      <td>0.56</td>\n",
       "      <td>1.6</td>\n",
       "      <td>0.27</td>\n",
       "    </tr>\n",
       "    <tr>\n",
       "      <th>4</th>\n",
       "      <td>0.13</td>\n",
       "      <td>1</td>\n",
       "      <td>0</td>\n",
       "      <td>0.56</td>\n",
       "      <td>1.4</td>\n",
       "      <td>0.31</td>\n",
       "    </tr>\n",
       "    <tr>\n",
       "      <th>5</th>\n",
       "      <td>0.25</td>\n",
       "      <td>1</td>\n",
       "      <td>0</td>\n",
       "      <td>0.56</td>\n",
       "      <td>1.2</td>\n",
       "      <td>0.37</td>\n",
       "    </tr>\n",
       "    <tr>\n",
       "      <th>6</th>\n",
       "      <td>0.5</td>\n",
       "      <td>1</td>\n",
       "      <td>0</td>\n",
       "      <td>0.56</td>\n",
       "      <td>1</td>\n",
       "      <td>0.44</td>\n",
       "    </tr>\n",
       "  </tbody>\n",
       "</table>\n",
       "</div>"
      ],
      "text/plain": [
       "0   Fa/C0 X_e_less Y_e_less X_e_great Y_e_great     e \n",
       "1  0.0025        1        0      0.56         2   0.22\n",
       "2    0.04        1        0      0.56       1.8  0.247\n",
       "3    0.07        1        0      0.56       1.6   0.27\n",
       "4    0.13        1        0      0.56       1.4   0.31\n",
       "5    0.25        1        0      0.56       1.2   0.37\n",
       "6     0.5        1        0      0.56         1   0.44"
      ]
     },
     "execution_count": 4,
     "metadata": {},
     "output_type": "execute_result"
    }
   ],
   "source": [
    "df = e.T.set_index(0).T\n",
    "df"
   ]
  },
  {
   "cell_type": "code",
   "execution_count": 5,
   "metadata": {},
   "outputs": [
    {
     "data": {
      "text/html": [
       "<div>\n",
       "<style scoped>\n",
       "    .dataframe tbody tr th:only-of-type {\n",
       "        vertical-align: middle;\n",
       "    }\n",
       "\n",
       "    .dataframe tbody tr th {\n",
       "        vertical-align: top;\n",
       "    }\n",
       "\n",
       "    .dataframe thead th {\n",
       "        text-align: right;\n",
       "    }\n",
       "</style>\n",
       "<table border=\"1\" class=\"dataframe\">\n",
       "  <thead>\n",
       "    <tr style=\"text-align: right;\">\n",
       "      <th></th>\n",
       "      <th>Fa/C0</th>\n",
       "      <th>X_e_less</th>\n",
       "      <th>Y_e_less</th>\n",
       "      <th>X_e_great</th>\n",
       "      <th>Y_e_great</th>\n",
       "      <th>e</th>\n",
       "    </tr>\n",
       "  </thead>\n",
       "  <tbody>\n",
       "    <tr>\n",
       "      <th>1</th>\n",
       "      <td>0.0025</td>\n",
       "      <td>1.0</td>\n",
       "      <td>0.0</td>\n",
       "      <td>0.56</td>\n",
       "      <td>2.0</td>\n",
       "      <td>0.220</td>\n",
       "    </tr>\n",
       "    <tr>\n",
       "      <th>2</th>\n",
       "      <td>0.0400</td>\n",
       "      <td>1.0</td>\n",
       "      <td>0.0</td>\n",
       "      <td>0.56</td>\n",
       "      <td>1.8</td>\n",
       "      <td>0.247</td>\n",
       "    </tr>\n",
       "    <tr>\n",
       "      <th>3</th>\n",
       "      <td>0.0700</td>\n",
       "      <td>1.0</td>\n",
       "      <td>0.0</td>\n",
       "      <td>0.56</td>\n",
       "      <td>1.6</td>\n",
       "      <td>0.270</td>\n",
       "    </tr>\n",
       "    <tr>\n",
       "      <th>4</th>\n",
       "      <td>0.1300</td>\n",
       "      <td>1.0</td>\n",
       "      <td>0.0</td>\n",
       "      <td>0.56</td>\n",
       "      <td>1.4</td>\n",
       "      <td>0.310</td>\n",
       "    </tr>\n",
       "    <tr>\n",
       "      <th>5</th>\n",
       "      <td>0.2500</td>\n",
       "      <td>1.0</td>\n",
       "      <td>0.0</td>\n",
       "      <td>0.56</td>\n",
       "      <td>1.2</td>\n",
       "      <td>0.370</td>\n",
       "    </tr>\n",
       "    <tr>\n",
       "      <th>6</th>\n",
       "      <td>0.5000</td>\n",
       "      <td>1.0</td>\n",
       "      <td>0.0</td>\n",
       "      <td>0.56</td>\n",
       "      <td>1.0</td>\n",
       "      <td>0.440</td>\n",
       "    </tr>\n",
       "  </tbody>\n",
       "</table>\n",
       "</div>"
      ],
      "text/plain": [
       "0   Fa/C0  X_e_less  Y_e_less  X_e_great  Y_e_great     e \n",
       "1  0.0025       1.0       0.0       0.56        2.0  0.220\n",
       "2  0.0400       1.0       0.0       0.56        1.8  0.247\n",
       "3  0.0700       1.0       0.0       0.56        1.6  0.270\n",
       "4  0.1300       1.0       0.0       0.56        1.4  0.310\n",
       "5  0.2500       1.0       0.0       0.56        1.2  0.370\n",
       "6  0.5000       1.0       0.0       0.56        1.0  0.440"
      ]
     },
     "execution_count": 5,
     "metadata": {},
     "output_type": "execute_result"
    }
   ],
   "source": [
    "df = df.astype(float)\n",
    "df"
   ]
  },
  {
   "cell_type": "code",
   "execution_count": 6,
   "metadata": {},
   "outputs": [],
   "source": [
    "def i(num):\n",
    "    return e['Fa/C0'].between(e['Fa/C0'],e['Fa/C0'])"
   ]
  },
  {
   "cell_type": "code",
   "execution_count": 8,
   "metadata": {},
   "outputs": [],
   "source": [
    "e = round(e,2)"
   ]
  },
  {
   "cell_type": "code",
   "execution_count": 9,
   "metadata": {},
   "outputs": [
    {
     "data": {
      "text/html": [
       "<div>\n",
       "<style scoped>\n",
       "    .dataframe tbody tr th:only-of-type {\n",
       "        vertical-align: middle;\n",
       "    }\n",
       "\n",
       "    .dataframe tbody tr th {\n",
       "        vertical-align: top;\n",
       "    }\n",
       "\n",
       "    .dataframe thead th {\n",
       "        text-align: right;\n",
       "    }\n",
       "</style>\n",
       "<table border=\"1\" class=\"dataframe\">\n",
       "  <thead>\n",
       "    <tr style=\"text-align: right;\">\n",
       "      <th></th>\n",
       "      <th>Table 1</th>\n",
       "      <th>Unnamed: 1</th>\n",
       "      <th>Unnamed: 2</th>\n",
       "      <th>Unnamed: 3</th>\n",
       "      <th>Unnamed: 4</th>\n",
       "      <th>Unnamed: 5</th>\n",
       "    </tr>\n",
       "  </thead>\n",
       "  <tbody>\n",
       "    <tr>\n",
       "      <th>0</th>\n",
       "      <td>Fa/C0</td>\n",
       "      <td>X_e_less</td>\n",
       "      <td>Y_e_less</td>\n",
       "      <td>X_e_great</td>\n",
       "      <td>Y_e_great</td>\n",
       "      <td>e</td>\n",
       "    </tr>\n",
       "    <tr>\n",
       "      <th>1</th>\n",
       "      <td>0.0025</td>\n",
       "      <td>1</td>\n",
       "      <td>0</td>\n",
       "      <td>0.56</td>\n",
       "      <td>2</td>\n",
       "      <td>0.22</td>\n",
       "    </tr>\n",
       "    <tr>\n",
       "      <th>2</th>\n",
       "      <td>0.04</td>\n",
       "      <td>1</td>\n",
       "      <td>0</td>\n",
       "      <td>0.56</td>\n",
       "      <td>1.8</td>\n",
       "      <td>0.247</td>\n",
       "    </tr>\n",
       "    <tr>\n",
       "      <th>3</th>\n",
       "      <td>0.07</td>\n",
       "      <td>1</td>\n",
       "      <td>0</td>\n",
       "      <td>0.56</td>\n",
       "      <td>1.6</td>\n",
       "      <td>0.27</td>\n",
       "    </tr>\n",
       "    <tr>\n",
       "      <th>4</th>\n",
       "      <td>0.13</td>\n",
       "      <td>1</td>\n",
       "      <td>0</td>\n",
       "      <td>0.56</td>\n",
       "      <td>1.4</td>\n",
       "      <td>0.31</td>\n",
       "    </tr>\n",
       "    <tr>\n",
       "      <th>5</th>\n",
       "      <td>0.25</td>\n",
       "      <td>1</td>\n",
       "      <td>0</td>\n",
       "      <td>0.56</td>\n",
       "      <td>1.2</td>\n",
       "      <td>0.37</td>\n",
       "    </tr>\n",
       "    <tr>\n",
       "      <th>6</th>\n",
       "      <td>0.5</td>\n",
       "      <td>1</td>\n",
       "      <td>0</td>\n",
       "      <td>0.56</td>\n",
       "      <td>1</td>\n",
       "      <td>0.44</td>\n",
       "    </tr>\n",
       "  </tbody>\n",
       "</table>\n",
       "</div>"
      ],
      "text/plain": [
       "  Table 1 Unnamed: 1 Unnamed: 2 Unnamed: 3 Unnamed: 4 Unnamed: 5\n",
       "0   Fa/C0   X_e_less   Y_e_less  X_e_great  Y_e_great         e \n",
       "1  0.0025          1          0       0.56          2       0.22\n",
       "2    0.04          1          0       0.56        1.8      0.247\n",
       "3    0.07          1          0       0.56        1.6       0.27\n",
       "4    0.13          1          0       0.56        1.4       0.31\n",
       "5    0.25          1          0       0.56        1.2       0.37\n",
       "6     0.5          1          0       0.56          1       0.44"
      ]
     },
     "execution_count": 9,
     "metadata": {},
     "output_type": "execute_result"
    }
   ],
   "source": [
    "e"
   ]
  },
  {
   "cell_type": "code",
   "execution_count": 10,
   "metadata": {},
   "outputs": [
    {
     "ename": "SyntaxError",
     "evalue": "invalid syntax (<ipython-input-10-d78937da06a2>, line 1)",
     "output_type": "error",
     "traceback": [
      "\u001b[0;36m  File \u001b[0;32m\"<ipython-input-10-d78937da06a2>\"\u001b[0;36m, line \u001b[0;32m1\u001b[0m\n\u001b[0;31m    if e['Fa/C0'] <= 0 and e['Fa/C0'] >= 0.04\u001b[0m\n\u001b[0m                                             ^\u001b[0m\n\u001b[0;31mSyntaxError\u001b[0m\u001b[0;31m:\u001b[0m invalid syntax\n"
     ]
    }
   ],
   "source": [
    "if e['Fa/C0'] <= 0 and e['Fa/C0'] >= 0.04"
   ]
  },
  {
   "cell_type": "code",
   "execution_count": 11,
   "metadata": {},
   "outputs": [
    {
     "data": {
      "text/html": [
       "<div>\n",
       "<style scoped>\n",
       "    .dataframe tbody tr th:only-of-type {\n",
       "        vertical-align: middle;\n",
       "    }\n",
       "\n",
       "    .dataframe tbody tr th {\n",
       "        vertical-align: top;\n",
       "    }\n",
       "\n",
       "    .dataframe thead th {\n",
       "        text-align: right;\n",
       "    }\n",
       "</style>\n",
       "<table border=\"1\" class=\"dataframe\">\n",
       "  <thead>\n",
       "    <tr style=\"text-align: right;\">\n",
       "      <th></th>\n",
       "      <th>Fa/C0</th>\n",
       "      <th>X_e_less</th>\n",
       "      <th>Y_e_less</th>\n",
       "      <th>X_e_great</th>\n",
       "      <th>Y_e_great</th>\n",
       "      <th>e</th>\n",
       "    </tr>\n",
       "  </thead>\n",
       "  <tbody>\n",
       "    <tr>\n",
       "      <th>1</th>\n",
       "      <td>0.0025</td>\n",
       "      <td>1.0</td>\n",
       "      <td>0.0</td>\n",
       "      <td>0.56</td>\n",
       "      <td>2.0</td>\n",
       "      <td>0.220</td>\n",
       "    </tr>\n",
       "    <tr>\n",
       "      <th>2</th>\n",
       "      <td>0.0400</td>\n",
       "      <td>1.0</td>\n",
       "      <td>0.0</td>\n",
       "      <td>0.56</td>\n",
       "      <td>1.8</td>\n",
       "      <td>0.247</td>\n",
       "    </tr>\n",
       "    <tr>\n",
       "      <th>3</th>\n",
       "      <td>0.0700</td>\n",
       "      <td>1.0</td>\n",
       "      <td>0.0</td>\n",
       "      <td>0.56</td>\n",
       "      <td>1.6</td>\n",
       "      <td>0.270</td>\n",
       "    </tr>\n",
       "    <tr>\n",
       "      <th>4</th>\n",
       "      <td>0.1300</td>\n",
       "      <td>1.0</td>\n",
       "      <td>0.0</td>\n",
       "      <td>0.56</td>\n",
       "      <td>1.4</td>\n",
       "      <td>0.310</td>\n",
       "    </tr>\n",
       "    <tr>\n",
       "      <th>5</th>\n",
       "      <td>0.2500</td>\n",
       "      <td>1.0</td>\n",
       "      <td>0.0</td>\n",
       "      <td>0.56</td>\n",
       "      <td>1.2</td>\n",
       "      <td>0.370</td>\n",
       "    </tr>\n",
       "    <tr>\n",
       "      <th>6</th>\n",
       "      <td>0.5000</td>\n",
       "      <td>1.0</td>\n",
       "      <td>0.0</td>\n",
       "      <td>0.56</td>\n",
       "      <td>1.0</td>\n",
       "      <td>0.440</td>\n",
       "    </tr>\n",
       "  </tbody>\n",
       "</table>\n",
       "</div>"
      ],
      "text/plain": [
       "0   Fa/C0  X_e_less  Y_e_less  X_e_great  Y_e_great     e \n",
       "1  0.0025       1.0       0.0       0.56        2.0  0.220\n",
       "2  0.0400       1.0       0.0       0.56        1.8  0.247\n",
       "3  0.0700       1.0       0.0       0.56        1.6  0.270\n",
       "4  0.1300       1.0       0.0       0.56        1.4  0.310\n",
       "5  0.2500       1.0       0.0       0.56        1.2  0.370\n",
       "6  0.5000       1.0       0.0       0.56        1.0  0.440"
      ]
     },
     "execution_count": 11,
     "metadata": {},
     "output_type": "execute_result"
    }
   ],
   "source": [
    "df"
   ]
  },
  {
   "cell_type": "code",
   "execution_count": 12,
   "metadata": {},
   "outputs": [
    {
     "ename": "SyntaxError",
     "evalue": "invalid syntax (<ipython-input-12-c65e38c34929>, line 1)",
     "output_type": "error",
     "traceback": [
      "\u001b[0;36m  File \u001b[0;32m\"<ipython-input-12-c65e38c34929>\"\u001b[0;36m, line \u001b[0;32m1\u001b[0m\n\u001b[0;31m    if num\u001b[0m\n\u001b[0m          ^\u001b[0m\n\u001b[0;31mSyntaxError\u001b[0m\u001b[0;31m:\u001b[0m invalid syntax\n"
     ]
    }
   ],
   "source": [
    "if num"
   ]
  },
  {
   "cell_type": "code",
   "execution_count": 13,
   "metadata": {},
   "outputs": [
    {
     "data": {
      "text/html": [
       "<div>\n",
       "<style scoped>\n",
       "    .dataframe tbody tr th:only-of-type {\n",
       "        vertical-align: middle;\n",
       "    }\n",
       "\n",
       "    .dataframe tbody tr th {\n",
       "        vertical-align: top;\n",
       "    }\n",
       "\n",
       "    .dataframe thead th {\n",
       "        text-align: right;\n",
       "    }\n",
       "</style>\n",
       "<table border=\"1\" class=\"dataframe\">\n",
       "  <thead>\n",
       "    <tr style=\"text-align: right;\">\n",
       "      <th></th>\n",
       "      <th>d</th>\n",
       "      <th>D</th>\n",
       "      <th>B</th>\n",
       "      <th>C</th>\n",
       "      <th>C0</th>\n",
       "      <th>Pu</th>\n",
       "      <th>Designation</th>\n",
       "    </tr>\n",
       "  </thead>\n",
       "  <tbody>\n",
       "    <tr>\n",
       "      <th>0</th>\n",
       "      <td>20.0</td>\n",
       "      <td>42</td>\n",
       "      <td>12</td>\n",
       "      <td>9.95</td>\n",
       "      <td>5.00</td>\n",
       "      <td>0.212</td>\n",
       "      <td>6004</td>\n",
       "    </tr>\n",
       "    <tr>\n",
       "      <th>1</th>\n",
       "      <td>20.0</td>\n",
       "      <td>47</td>\n",
       "      <td>14</td>\n",
       "      <td>13.50</td>\n",
       "      <td>6.55</td>\n",
       "      <td>0.280</td>\n",
       "      <td>6204</td>\n",
       "    </tr>\n",
       "    <tr>\n",
       "      <th>2</th>\n",
       "      <td>20.0</td>\n",
       "      <td>52</td>\n",
       "      <td>15</td>\n",
       "      <td>16.80</td>\n",
       "      <td>7.80</td>\n",
       "      <td>0.335</td>\n",
       "      <td>6304</td>\n",
       "    </tr>\n",
       "    <tr>\n",
       "      <th>3</th>\n",
       "      <td>20.0</td>\n",
       "      <td>72</td>\n",
       "      <td>19</td>\n",
       "      <td>30.70</td>\n",
       "      <td>15.00</td>\n",
       "      <td>0.640</td>\n",
       "      <td>6404</td>\n",
       "    </tr>\n",
       "    <tr>\n",
       "      <th>4</th>\n",
       "      <td>25.0</td>\n",
       "      <td>47</td>\n",
       "      <td>12</td>\n",
       "      <td>11.90</td>\n",
       "      <td>6.55</td>\n",
       "      <td>0.275</td>\n",
       "      <td>6005</td>\n",
       "    </tr>\n",
       "    <tr>\n",
       "      <th>...</th>\n",
       "      <td>...</td>\n",
       "      <td>...</td>\n",
       "      <td>...</td>\n",
       "      <td>...</td>\n",
       "      <td>...</td>\n",
       "      <td>...</td>\n",
       "      <td>...</td>\n",
       "    </tr>\n",
       "    <tr>\n",
       "      <th>61</th>\n",
       "      <td>95.0</td>\n",
       "      <td>170</td>\n",
       "      <td>32</td>\n",
       "      <td>114.00</td>\n",
       "      <td>81.50</td>\n",
       "      <td>3.000</td>\n",
       "      <td>6219</td>\n",
       "    </tr>\n",
       "    <tr>\n",
       "      <th>62</th>\n",
       "      <td>95.0</td>\n",
       "      <td>200</td>\n",
       "      <td>45</td>\n",
       "      <td>159.00</td>\n",
       "      <td>118.00</td>\n",
       "      <td>4.150</td>\n",
       "      <td>6319</td>\n",
       "    </tr>\n",
       "    <tr>\n",
       "      <th>63</th>\n",
       "      <td>100.0</td>\n",
       "      <td>150</td>\n",
       "      <td>24</td>\n",
       "      <td>63.70</td>\n",
       "      <td>54.00</td>\n",
       "      <td>2.040</td>\n",
       "      <td>6024</td>\n",
       "    </tr>\n",
       "    <tr>\n",
       "      <th>64</th>\n",
       "      <td>100.0</td>\n",
       "      <td>180</td>\n",
       "      <td>34</td>\n",
       "      <td>127.00</td>\n",
       "      <td>93.00</td>\n",
       "      <td>3.350</td>\n",
       "      <td>6220</td>\n",
       "    </tr>\n",
       "    <tr>\n",
       "      <th>65</th>\n",
       "      <td>100.0</td>\n",
       "      <td>215</td>\n",
       "      <td>47</td>\n",
       "      <td>174.00</td>\n",
       "      <td>140.00</td>\n",
       "      <td>4.750</td>\n",
       "      <td>6320</td>\n",
       "    </tr>\n",
       "  </tbody>\n",
       "</table>\n",
       "<p>66 rows × 7 columns</p>\n",
       "</div>"
      ],
      "text/plain": [
       "        d    D   B       C      C0     Pu  Designation\n",
       "0    20.0   42  12    9.95    5.00  0.212         6004\n",
       "1    20.0   47  14   13.50    6.55  0.280         6204\n",
       "2    20.0   52  15   16.80    7.80  0.335         6304\n",
       "3    20.0   72  19   30.70   15.00  0.640         6404\n",
       "4    25.0   47  12   11.90    6.55  0.275         6005\n",
       "..    ...  ...  ..     ...     ...    ...          ...\n",
       "61   95.0  170  32  114.00   81.50  3.000         6219\n",
       "62   95.0  200  45  159.00  118.00  4.150         6319\n",
       "63  100.0  150  24   63.70   54.00  2.040         6024\n",
       "64  100.0  180  34  127.00   93.00  3.350         6220\n",
       "65  100.0  215  47  174.00  140.00  4.750         6320\n",
       "\n",
       "[66 rows x 7 columns]"
      ]
     },
     "execution_count": 13,
     "metadata": {},
     "output_type": "execute_result"
    }
   ],
   "source": [
    "bearing = pd.read_excel(\"Book2.xlsx\") \n",
    "bearing.d = bearing.d.fillna(method=\"ffill\")\n",
    "bearing"
   ]
  },
  {
   "cell_type": "code",
   "execution_count": 14,
   "metadata": {},
   "outputs": [
    {
     "data": {
      "text/plain": [
       "d              float64\n",
       "D                int64\n",
       "B                int64\n",
       "C              float64\n",
       "C0             float64\n",
       "Pu             float64\n",
       "Designation      int64\n",
       "dtype: object"
      ]
     },
     "execution_count": 14,
     "metadata": {},
     "output_type": "execute_result"
    }
   ],
   "source": [
    "bearing.dtypes"
   ]
  },
  {
   "cell_type": "code",
   "execution_count": 15,
   "metadata": {},
   "outputs": [
    {
     "data": {
      "text/plain": [
       "20.0     4\n",
       "50.0     4\n",
       "55.0     4\n",
       "25.0     4\n",
       "30.0     4\n",
       "35.0     4\n",
       "40.0     4\n",
       "45.0     4\n",
       "60.0     4\n",
       "65.0     4\n",
       "70.0     4\n",
       "75.0     4\n",
       "80.0     4\n",
       "85.0     4\n",
       "90.0     4\n",
       "95.0     3\n",
       "100.0    3\n",
       "Name: d, dtype: int64"
      ]
     },
     "execution_count": 15,
     "metadata": {},
     "output_type": "execute_result"
    }
   ],
   "source": [
    "bearing.d.value_counts().sort_values(ascending=False)"
   ]
  },
  {
   "cell_type": "code",
   "execution_count": null,
   "metadata": {},
   "outputs": [],
   "source": [
    "N = int(input(\"ENter the rpm: \"))\n",
    "fr = int(input(\"ENter the Radial load\"))\n",
    "fa = int(input(\"ENter the axial load\"))\n",
    "years_to_run = int(input(\"years_to_run: \"))\n",
    "per_day_run =  int(input(\"years_to_run in hours: \"))\n",
    "total_life = per_day_run*years_to_run*365\n",
    "total_life"
   ]
  },
  {
   "cell_type": "code",
   "execution_count": null,
   "metadata": {},
   "outputs": [],
   "source": [
    "(N,fr,fa,years_to_run,per_day_run,total_life)"
   ]
  },
  {
   "cell_type": "code",
   "execution_count": null,
   "metadata": {},
   "outputs": [],
   "source": [
    "bearing = pd.read_excel(\"Book2.xlsx\") \n",
    "bearing.d = bearing.d.fillna(method=\"ffill\")\n",
    "bearing.C = bearing.C*1000\n",
    "bearing.C0 = bearing.C0*1000\n",
    "bearing"
   ]
  },
  {
   "cell_type": "code",
   "execution_count": null,
   "metadata": {},
   "outputs": [],
   "source": [
    "e = pd.read_excel(\"equilent_load.xlsx\",header=0)\n",
    "e = e.T.set_index(0).T\n",
    "e = e.astype(float)\n",
    "e"
   ]
  },
  {
   "cell_type": "code",
   "execution_count": null,
   "metadata": {},
   "outputs": [],
   "source": [
    "print(bearing.d.unique())\n",
    "dia = int(input(\"Select dia from 20 to 100mm : \"))\n",
    "new_dia_values = bearing[bearing.d==dia]\n",
    "print(new_dia_values.Designation)\n",
    "choose_designation = int(input(\"Select designation from above: \"))\n",
    "new_dia_values = bearing[bearing.Designation==choose_designation]"
   ]
  },
  {
   "cell_type": "code",
   "execution_count": null,
   "metadata": {},
   "outputs": [],
   "source": [
    "new_dia_values"
   ]
  },
  {
   "cell_type": "code",
   "execution_count": null,
   "metadata": {},
   "outputs": [],
   "source": [
    "fafr = fa/fr\n",
    "fafr"
   ]
  },
  {
   "cell_type": "code",
   "execution_count": null,
   "metadata": {},
   "outputs": [],
   "source": [
    "fac0 = float(fa/(new_dia_values.C0))\n",
    "fac0 = round(fac0,2)\n",
    "fac0"
   ]
  },
  {
   "cell_type": "code",
   "execution_count": null,
   "metadata": {},
   "outputs": [],
   "source": [
    "e"
   ]
  },
  {
   "cell_type": "code",
   "execution_count": null,
   "metadata": {},
   "outputs": [],
   "source": [
    "if fafr <= 0.44:\n",
    "    X = 1\n",
    "    Y = 0\n",
    "    print(X,Y)\n",
    "elif fafr > 0.44:\n",
    "    X = 0.56\n",
    "    if fac0 >= e['Fa/C0'][1] and fac0 <= e['Fa/C0'][2]:\n",
    "        Y=1.9\n",
    "    elif fac0 >= e['Fa/C0'][2] and fac0 <= e['Fa/C0'][3]:\n",
    "        Y = 1.7\n",
    "    elif fac0 >= e['Fa/C0'][3] and fac0 <= e['Fa/C0'][4]:\n",
    "        Y = 1.5\n",
    "    elif fac0 >= e['Fa/C0'][4] and fac0 <= e['Fa/C0'][5]:\n",
    "        Y = 1.3\n",
    "    elif fac0 >= e['Fa/C0'][5] and fac0 <= e['Fa/C0'][6]:\n",
    "        Y = 1.1\n",
    "else:\n",
    "    print(\"unable\")\n"
   ]
  },
  {
   "cell_type": "code",
   "execution_count": null,
   "metadata": {},
   "outputs": [],
   "source": [
    "X,Y"
   ]
  },
  {
   "cell_type": "code",
   "execution_count": null,
   "metadata": {},
   "outputs": [],
   "source": [
    "e['Fa/C0'] = round(e['Fa/C0'],2)"
   ]
  },
  {
   "cell_type": "code",
   "execution_count": null,
   "metadata": {},
   "outputs": [],
   "source": [
    "e['Fa/C0']"
   ]
  },
  {
   "cell_type": "code",
   "execution_count": null,
   "metadata": {},
   "outputs": [],
   "source": [
    "(X,Y,fr,fa)"
   ]
  },
  {
   "cell_type": "code",
   "execution_count": null,
   "metadata": {},
   "outputs": [],
   "source": [
    "l = [1.3,1.4,1.5,1.6,1.7,1.8,1.9]\n",
    "print(l)\n",
    "s = float(input(\"ENter fos: \"))\n",
    "print(s)\n",
    "P = ((X*fr)+(Y*fa))*s \n",
    "print(P)"
   ]
  },
  {
   "cell_type": "code",
   "execution_count": null,
   "metadata": {},
   "outputs": [],
   "source": [
    "cfind = P * 9.11\n",
    "cfind"
   ]
  },
  {
   "cell_type": "code",
   "execution_count": null,
   "metadata": {},
   "outputs": [],
   "source": [
    "if cfind > float(new_dia_values.C):\n",
    "    print(\"Not safe\")\n",
    "elif  cfind < float(new_dia_values.C):\n",
    "    print(f\"Bearing is safe:::{float(new_dia_values.C)} < {c}\")"
   ]
  },
  {
   "cell_type": "code",
   "execution_count": null,
   "metadata": {},
   "outputs": [],
   "source": [
    "float(new_dia_values.C)"
   ]
  },
  {
   "cell_type": "code",
   "execution_count": null,
   "metadata": {},
   "outputs": [],
   "source": [
    "N = int(input(\"ENter the rpm: \"))\n",
    "fr = int(input(\"ENter the Radial load\"))\n",
    "fa = int(input(\"ENter the axial load\"))\n",
    "years_to_run = int(input(\"years_to_run: \"))\n",
    "per_day_run =  int(input(\"years_to_run in hours: \"))\n",
    "total_life = per_day_run*years_to_run*365\n",
    "total_life\n"
   ]
  },
  {
   "cell_type": "code",
   "execution_count": null,
   "metadata": {},
   "outputs": [],
   "source": [
    "print(bearing.d.unique())\n",
    "dia = int(input(\"Select dia from 20 to 100mm : \"))\n",
    "new_dia_values = bearing[bearing.d==dia]\n",
    "print(new_dia_values.Designation)\n",
    "choose_designation = int(input(\"Select designation from above: \"))\n",
    "new_dia_values = bearing[bearing.Designation==choose_designation]\n",
    "new_dia_values"
   ]
  },
  {
   "cell_type": "code",
   "execution_count": null,
   "metadata": {},
   "outputs": [],
   "source": [
    "fafr = fa/fr\n",
    "fafr"
   ]
  },
  {
   "cell_type": "code",
   "execution_count": null,
   "metadata": {},
   "outputs": [],
   "source": [
    "fac0 = float(fa/(new_dia_values.C0))\n",
    "fac0 = round(fac0,2)\n",
    "fac0"
   ]
  },
  {
   "cell_type": "code",
   "execution_count": null,
   "metadata": {},
   "outputs": [],
   "source": [
    "if fafr <= 0.44:\n",
    "    X = 1\n",
    "    Y = 0\n",
    "    print(X,Y)\n",
    "elif fafr > 0.44:\n",
    "    X = 0.56\n",
    "    if fac0 < e['Fa/C0'][1] and fac0 >= e['Fa/C0'][2]:\n",
    "        Y=1.9\n",
    "    elif fac0 < e['Fa/C0'][2] and fac0 >= e['Fa/C0'][3]:\n",
    "        Y = 1.7\n",
    "    elif fac0 < e['Fa/C0'][3] and fac0 >= e['Fa/C0'][4]:\n",
    "        Y = 1.5\n",
    "    elif fac0 < e['Fa/C0'][4] and fac0 >= e['Fa/C0'][5]:\n",
    "        Y = 1.3\n",
    "    elif fac0 < e['Fa/C0'][5] and fac0 >= e['Fa/C0'][6]:\n",
    "        Y = 1.1\n",
    "else:\n",
    "    print(\"unable\")"
   ]
  },
  {
   "cell_type": "code",
   "execution_count": null,
   "metadata": {},
   "outputs": [],
   "source": [
    "Y = 1.5\n",
    "X,Y"
   ]
  },
  {
   "cell_type": "code",
   "execution_count": null,
   "metadata": {},
   "outputs": [],
   "source": [
    "l = [1.3,1.4,1.5,1.6,1.7,1.8,1.9]\n",
    "print(l)\n",
    "s = float(input(\"ENter fos: \"))\n",
    "print(s)\n",
    "P = ((X*fr)+(Y*fa))*s \n",
    "print(P)"
   ]
  },
  {
   "cell_type": "code",
   "execution_count": null,
   "metadata": {},
   "outputs": [],
   "source": [
    "cfind = P * 9.11\n",
    "cfind"
   ]
  },
  {
   "cell_type": "code",
   "execution_count": null,
   "metadata": {},
   "outputs": [],
   "source": [
    "float(new_dia_values.C)\n",
    "if cfind > float(new_dia_values.C):\n",
    "    print(\"Not safe\")\n",
    "elif  cfind < float(new_dia_values.C):\n",
    "    print(f\"Bearing is safe:::{cfind} < {float(new_dia_values.C)}\")"
   ]
  },
  {
   "cell_type": "code",
   "execution_count": null,
   "metadata": {},
   "outputs": [],
   "source": [
    "print(bearing.d.unique())\n",
    "dia = int(input(\"Select dia from 20 to 100mm : \"))\n",
    "new_dia_values = bearing[bearing.d==dia]\n",
    "print(new_dia_values.Designation)\n"
   ]
  },
  {
   "cell_type": "code",
   "execution_count": null,
   "metadata": {},
   "outputs": [],
   "source": [
    "new_dia_values"
   ]
  },
  {
   "cell_type": "code",
   "execution_count": null,
   "metadata": {},
   "outputs": [],
   "source": [
    "for i in range(len(new_dia_values)):\n",
    "    print(i)\n",
    "    fac0 = float(fa/(new_dia_values.C0))\n",
    "    fac0 = round(fac0,2)\n",
    "    fac0"
   ]
  },
  {
   "cell_type": "code",
   "execution_count": null,
   "metadata": {},
   "outputs": [],
   "source": [
    "import matplotlib.pyplot as plt\n",
    "import seaborn as sns"
   ]
  },
  {
   "cell_type": "code",
   "execution_count": null,
   "metadata": {},
   "outputs": [],
   "source": [
    "def load_data():\n",
    "    bearing = pd.read_excel(\"Book2.xlsx\")\n",
    "    bearing.d = bearing.d.fillna(method=\"ffill\")\n",
    "    bearing.C = bearing.C * 1000\n",
    "    bearing.C0 = bearing.C0 * 1000\n",
    "    e = pd.read_excel(\"equilent_load.xlsx\", header=0)\n",
    "    e = e.T.set_index(0).T\n",
    "    e = e.astype(float)\n",
    "    return (bearing, e)\n",
    "\n",
    "\n",
    "bearing, e = load_data()\n",
    "print(bearing)\n",
    "print(e)"
   ]
  },
  {
   "cell_type": "code",
   "execution_count": null,
   "metadata": {},
   "outputs": [],
   "source": [
    "N = int(input(\"ENter the rpm: \"))\n",
    "fr = int(input(\"ENter the Radial load\"))\n",
    "fa = int(input(\"ENter the axial load\"))\n",
    "years_to_run = int(input(\"years_to_run: \"))\n",
    "per_day_run =  int(input(\"years_to_run in hours: \"))\n",
    "total_life = per_day_run*years_to_run*365\n",
    "total_life\n"
   ]
  },
  {
   "cell_type": "code",
   "execution_count": null,
   "metadata": {},
   "outputs": [],
   "source": [
    "di = {\"N\":N,\"Fr\":fr,\"Fa\":fa,\"years_to run\":years_to_run,\"per_day_to_run\":per_day_run,\"Life\":total_life}\n",
    "user = pd.DataFrame(di,index=[0])\n",
    "user"
   ]
  },
  {
   "cell_type": "code",
   "execution_count": null,
   "metadata": {},
   "outputs": [],
   "source": [
    "user_input = pd.DataFrame(di,index=[0]).T\n",
    "user_input.columns = [\"InputValues\"]"
   ]
  },
  {
   "cell_type": "code",
   "execution_count": null,
   "metadata": {},
   "outputs": [],
   "source": [
    "user_input"
   ]
  },
  {
   "cell_type": "code",
   "execution_count": null,
   "metadata": {},
   "outputs": [],
   "source": []
  }
 ],
 "metadata": {
  "kernelspec": {
   "display_name": "Python 3",
   "language": "python",
   "name": "python3"
  },
  "language_info": {
   "codemirror_mode": {
    "name": "ipython",
    "version": 3
   },
   "file_extension": ".py",
   "mimetype": "text/x-python",
   "name": "python",
   "nbconvert_exporter": "python",
   "pygments_lexer": "ipython3",
   "version": "3.8.3"
  }
 },
 "nbformat": 4,
 "nbformat_minor": 4
}

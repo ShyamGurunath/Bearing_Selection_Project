{
 "cells": [
  {
   "cell_type": "code",
   "execution_count": 1,
   "metadata": {},
   "outputs": [],
   "source": [
    "import pandas as pd\n",
    "import numpy as np"
   ]
  },
  {
   "cell_type": "code",
   "execution_count": 65,
   "metadata": {},
   "outputs": [],
   "source": [
    "e = pd.read_excel(\"equilent_load.xlsx\")"
   ]
  },
  {
   "cell_type": "code",
   "execution_count": 68,
   "metadata": {},
   "outputs": [],
   "source": [
    "e.to_csv(\"fafrratio.csv\",header=1)"
   ]
  },
  {
   "cell_type": "code",
   "execution_count": 72,
   "metadata": {},
   "outputs": [
    {
     "data": {
      "text/html": [
       "<div>\n",
       "<style scoped>\n",
       "    .dataframe tbody tr th:only-of-type {\n",
       "        vertical-align: middle;\n",
       "    }\n",
       "\n",
       "    .dataframe tbody tr th {\n",
       "        vertical-align: top;\n",
       "    }\n",
       "\n",
       "    .dataframe thead th {\n",
       "        text-align: right;\n",
       "    }\n",
       "</style>\n",
       "<table border=\"1\" class=\"dataframe\">\n",
       "  <thead>\n",
       "    <tr style=\"text-align: right;\">\n",
       "      <th></th>\n",
       "      <th>Fa/C0</th>\n",
       "      <th>X_e_less</th>\n",
       "      <th>Y_e_less</th>\n",
       "      <th>X_e_great</th>\n",
       "      <th>Y_e_great</th>\n",
       "      <th>e</th>\n",
       "    </tr>\n",
       "  </thead>\n",
       "  <tbody>\n",
       "    <tr>\n",
       "      <th>1</th>\n",
       "      <td>0.0025</td>\n",
       "      <td>1</td>\n",
       "      <td>0</td>\n",
       "      <td>0.56</td>\n",
       "      <td>2</td>\n",
       "      <td>0.22</td>\n",
       "    </tr>\n",
       "    <tr>\n",
       "      <th>2</th>\n",
       "      <td>0.04</td>\n",
       "      <td>1</td>\n",
       "      <td>0</td>\n",
       "      <td>0.56</td>\n",
       "      <td>1.8</td>\n",
       "      <td>0.247</td>\n",
       "    </tr>\n",
       "    <tr>\n",
       "      <th>3</th>\n",
       "      <td>0.07</td>\n",
       "      <td>1</td>\n",
       "      <td>0</td>\n",
       "      <td>0.56</td>\n",
       "      <td>1.6</td>\n",
       "      <td>0.27</td>\n",
       "    </tr>\n",
       "    <tr>\n",
       "      <th>4</th>\n",
       "      <td>0.13</td>\n",
       "      <td>1</td>\n",
       "      <td>0</td>\n",
       "      <td>0.56</td>\n",
       "      <td>1.4</td>\n",
       "      <td>0.31</td>\n",
       "    </tr>\n",
       "    <tr>\n",
       "      <th>5</th>\n",
       "      <td>0.25</td>\n",
       "      <td>1</td>\n",
       "      <td>0</td>\n",
       "      <td>0.56</td>\n",
       "      <td>1.2</td>\n",
       "      <td>0.37</td>\n",
       "    </tr>\n",
       "    <tr>\n",
       "      <th>6</th>\n",
       "      <td>0.5</td>\n",
       "      <td>1</td>\n",
       "      <td>0</td>\n",
       "      <td>0.56</td>\n",
       "      <td>1</td>\n",
       "      <td>0.44</td>\n",
       "    </tr>\n",
       "  </tbody>\n",
       "</table>\n",
       "</div>"
      ],
      "text/plain": [
       "0   Fa/C0 X_e_less Y_e_less X_e_great Y_e_great     e \n",
       "1  0.0025        1        0      0.56         2   0.22\n",
       "2    0.04        1        0      0.56       1.8  0.247\n",
       "3    0.07        1        0      0.56       1.6   0.27\n",
       "4    0.13        1        0      0.56       1.4   0.31\n",
       "5    0.25        1        0      0.56       1.2   0.37\n",
       "6     0.5        1        0      0.56         1   0.44"
      ]
     },
     "execution_count": 72,
     "metadata": {},
     "output_type": "execute_result"
    }
   ],
   "source": [
    "df = e.T.set_index(0).T\n",
    "df"
   ]
  },
  {
   "cell_type": "code",
   "execution_count": 74,
   "metadata": {},
   "outputs": [
    {
     "data": {
      "text/html": [
       "<div>\n",
       "<style scoped>\n",
       "    .dataframe tbody tr th:only-of-type {\n",
       "        vertical-align: middle;\n",
       "    }\n",
       "\n",
       "    .dataframe tbody tr th {\n",
       "        vertical-align: top;\n",
       "    }\n",
       "\n",
       "    .dataframe thead th {\n",
       "        text-align: right;\n",
       "    }\n",
       "</style>\n",
       "<table border=\"1\" class=\"dataframe\">\n",
       "  <thead>\n",
       "    <tr style=\"text-align: right;\">\n",
       "      <th></th>\n",
       "      <th>Fa/C0</th>\n",
       "      <th>X_e_less</th>\n",
       "      <th>Y_e_less</th>\n",
       "      <th>X_e_great</th>\n",
       "      <th>Y_e_great</th>\n",
       "      <th>e</th>\n",
       "    </tr>\n",
       "  </thead>\n",
       "  <tbody>\n",
       "    <tr>\n",
       "      <th>1</th>\n",
       "      <td>0.0025</td>\n",
       "      <td>1.0</td>\n",
       "      <td>0.0</td>\n",
       "      <td>0.56</td>\n",
       "      <td>2.0</td>\n",
       "      <td>0.220</td>\n",
       "    </tr>\n",
       "    <tr>\n",
       "      <th>2</th>\n",
       "      <td>0.0400</td>\n",
       "      <td>1.0</td>\n",
       "      <td>0.0</td>\n",
       "      <td>0.56</td>\n",
       "      <td>1.8</td>\n",
       "      <td>0.247</td>\n",
       "    </tr>\n",
       "    <tr>\n",
       "      <th>3</th>\n",
       "      <td>0.0700</td>\n",
       "      <td>1.0</td>\n",
       "      <td>0.0</td>\n",
       "      <td>0.56</td>\n",
       "      <td>1.6</td>\n",
       "      <td>0.270</td>\n",
       "    </tr>\n",
       "    <tr>\n",
       "      <th>4</th>\n",
       "      <td>0.1300</td>\n",
       "      <td>1.0</td>\n",
       "      <td>0.0</td>\n",
       "      <td>0.56</td>\n",
       "      <td>1.4</td>\n",
       "      <td>0.310</td>\n",
       "    </tr>\n",
       "    <tr>\n",
       "      <th>5</th>\n",
       "      <td>0.2500</td>\n",
       "      <td>1.0</td>\n",
       "      <td>0.0</td>\n",
       "      <td>0.56</td>\n",
       "      <td>1.2</td>\n",
       "      <td>0.370</td>\n",
       "    </tr>\n",
       "    <tr>\n",
       "      <th>6</th>\n",
       "      <td>0.5000</td>\n",
       "      <td>1.0</td>\n",
       "      <td>0.0</td>\n",
       "      <td>0.56</td>\n",
       "      <td>1.0</td>\n",
       "      <td>0.440</td>\n",
       "    </tr>\n",
       "  </tbody>\n",
       "</table>\n",
       "</div>"
      ],
      "text/plain": [
       "0   Fa/C0  X_e_less  Y_e_less  X_e_great  Y_e_great     e \n",
       "1  0.0025       1.0       0.0       0.56        2.0  0.220\n",
       "2  0.0400       1.0       0.0       0.56        1.8  0.247\n",
       "3  0.0700       1.0       0.0       0.56        1.6  0.270\n",
       "4  0.1300       1.0       0.0       0.56        1.4  0.310\n",
       "5  0.2500       1.0       0.0       0.56        1.2  0.370\n",
       "6  0.5000       1.0       0.0       0.56        1.0  0.440"
      ]
     },
     "execution_count": 74,
     "metadata": {},
     "output_type": "execute_result"
    }
   ],
   "source": [
    "df = df.astype(float)\n",
    "df"
   ]
  },
  {
   "cell_type": "code",
   "execution_count": 26,
   "metadata": {},
   "outputs": [],
   "source": [
    "def i(num):\n",
    "    return e['Fa/C0'].between(e['Fa/C0'],e['Fa/C0'])"
   ]
  },
  {
   "cell_type": "code",
   "execution_count": 27,
   "metadata": {},
   "outputs": [
    {
     "data": {
      "text/plain": [
       "1    True\n",
       "2    True\n",
       "3    True\n",
       "4    True\n",
       "5    True\n",
       "6    True\n",
       "Name: Fa/C0, dtype: bool"
      ]
     },
     "execution_count": 27,
     "metadata": {},
     "output_type": "execute_result"
    }
   ],
   "source": [
    "i(0.31)"
   ]
  },
  {
   "cell_type": "code",
   "execution_count": 35,
   "metadata": {},
   "outputs": [],
   "source": [
    "e = round(e,2)"
   ]
  },
  {
   "cell_type": "code",
   "execution_count": 36,
   "metadata": {},
   "outputs": [
    {
     "data": {
      "text/html": [
       "<div>\n",
       "<style scoped>\n",
       "    .dataframe tbody tr th:only-of-type {\n",
       "        vertical-align: middle;\n",
       "    }\n",
       "\n",
       "    .dataframe tbody tr th {\n",
       "        vertical-align: top;\n",
       "    }\n",
       "\n",
       "    .dataframe thead th {\n",
       "        text-align: right;\n",
       "    }\n",
       "</style>\n",
       "<table border=\"1\" class=\"dataframe\">\n",
       "  <thead>\n",
       "    <tr style=\"text-align: right;\">\n",
       "      <th></th>\n",
       "      <th>Fa/C0</th>\n",
       "      <th>X_e_less</th>\n",
       "      <th>Y_e_less</th>\n",
       "      <th>X_e_great</th>\n",
       "      <th>Y_e_great</th>\n",
       "      <th>e</th>\n",
       "    </tr>\n",
       "  </thead>\n",
       "  <tbody>\n",
       "    <tr>\n",
       "      <th>1</th>\n",
       "      <td>0.00</td>\n",
       "      <td>1.0</td>\n",
       "      <td>0.0</td>\n",
       "      <td>0.56</td>\n",
       "      <td>2.0</td>\n",
       "      <td>0.22</td>\n",
       "    </tr>\n",
       "    <tr>\n",
       "      <th>2</th>\n",
       "      <td>0.04</td>\n",
       "      <td>1.0</td>\n",
       "      <td>0.0</td>\n",
       "      <td>0.56</td>\n",
       "      <td>1.8</td>\n",
       "      <td>0.25</td>\n",
       "    </tr>\n",
       "    <tr>\n",
       "      <th>3</th>\n",
       "      <td>0.07</td>\n",
       "      <td>1.0</td>\n",
       "      <td>0.0</td>\n",
       "      <td>0.56</td>\n",
       "      <td>1.6</td>\n",
       "      <td>0.27</td>\n",
       "    </tr>\n",
       "    <tr>\n",
       "      <th>4</th>\n",
       "      <td>0.13</td>\n",
       "      <td>1.0</td>\n",
       "      <td>0.0</td>\n",
       "      <td>0.56</td>\n",
       "      <td>1.4</td>\n",
       "      <td>0.31</td>\n",
       "    </tr>\n",
       "    <tr>\n",
       "      <th>5</th>\n",
       "      <td>0.25</td>\n",
       "      <td>1.0</td>\n",
       "      <td>0.0</td>\n",
       "      <td>0.56</td>\n",
       "      <td>1.2</td>\n",
       "      <td>0.37</td>\n",
       "    </tr>\n",
       "    <tr>\n",
       "      <th>6</th>\n",
       "      <td>0.50</td>\n",
       "      <td>1.0</td>\n",
       "      <td>0.0</td>\n",
       "      <td>0.56</td>\n",
       "      <td>1.0</td>\n",
       "      <td>0.44</td>\n",
       "    </tr>\n",
       "  </tbody>\n",
       "</table>\n",
       "</div>"
      ],
      "text/plain": [
       "0  Fa/C0  X_e_less  Y_e_less  X_e_great  Y_e_great    e \n",
       "1   0.00       1.0       0.0       0.56        2.0  0.22\n",
       "2   0.04       1.0       0.0       0.56        1.8  0.25\n",
       "3   0.07       1.0       0.0       0.56        1.6  0.27\n",
       "4   0.13       1.0       0.0       0.56        1.4  0.31\n",
       "5   0.25       1.0       0.0       0.56        1.2  0.37\n",
       "6   0.50       1.0       0.0       0.56        1.0  0.44"
      ]
     },
     "execution_count": 36,
     "metadata": {},
     "output_type": "execute_result"
    }
   ],
   "source": [
    "e"
   ]
  },
  {
   "cell_type": "code",
   "execution_count": 37,
   "metadata": {},
   "outputs": [
    {
     "ename": "SyntaxError",
     "evalue": "invalid syntax (<ipython-input-37-d78937da06a2>, line 1)",
     "output_type": "error",
     "traceback": [
      "\u001b[0;36m  File \u001b[0;32m\"<ipython-input-37-d78937da06a2>\"\u001b[0;36m, line \u001b[0;32m1\u001b[0m\n\u001b[0;31m    if e['Fa/C0'] <= 0 and e['Fa/C0'] >= 0.04\u001b[0m\n\u001b[0m                                             ^\u001b[0m\n\u001b[0;31mSyntaxError\u001b[0m\u001b[0;31m:\u001b[0m invalid syntax\n"
     ]
    }
   ],
   "source": [
    "if e['Fa/C0'] <= 0 and e['Fa/C0'] >= 0.04"
   ]
  },
  {
   "cell_type": "code",
   "execution_count": 99,
   "metadata": {},
   "outputs": [
    {
     "data": {
      "text/html": [
       "<div>\n",
       "<style scoped>\n",
       "    .dataframe tbody tr th:only-of-type {\n",
       "        vertical-align: middle;\n",
       "    }\n",
       "\n",
       "    .dataframe tbody tr th {\n",
       "        vertical-align: top;\n",
       "    }\n",
       "\n",
       "    .dataframe thead th {\n",
       "        text-align: right;\n",
       "    }\n",
       "</style>\n",
       "<table border=\"1\" class=\"dataframe\">\n",
       "  <thead>\n",
       "    <tr style=\"text-align: right;\">\n",
       "      <th></th>\n",
       "      <th>Fa/C0</th>\n",
       "      <th>X_e_less</th>\n",
       "      <th>Y_e_less</th>\n",
       "      <th>X_e_great</th>\n",
       "      <th>Y_e_great</th>\n",
       "      <th>e</th>\n",
       "    </tr>\n",
       "  </thead>\n",
       "  <tbody>\n",
       "    <tr>\n",
       "      <th>1</th>\n",
       "      <td>0.0025</td>\n",
       "      <td>1.0</td>\n",
       "      <td>0.0</td>\n",
       "      <td>0.56</td>\n",
       "      <td>2.0</td>\n",
       "      <td>0.220</td>\n",
       "    </tr>\n",
       "    <tr>\n",
       "      <th>2</th>\n",
       "      <td>0.0400</td>\n",
       "      <td>1.0</td>\n",
       "      <td>0.0</td>\n",
       "      <td>0.56</td>\n",
       "      <td>1.8</td>\n",
       "      <td>0.247</td>\n",
       "    </tr>\n",
       "    <tr>\n",
       "      <th>3</th>\n",
       "      <td>0.0700</td>\n",
       "      <td>1.0</td>\n",
       "      <td>0.0</td>\n",
       "      <td>0.56</td>\n",
       "      <td>1.6</td>\n",
       "      <td>0.270</td>\n",
       "    </tr>\n",
       "    <tr>\n",
       "      <th>4</th>\n",
       "      <td>0.1300</td>\n",
       "      <td>1.0</td>\n",
       "      <td>0.0</td>\n",
       "      <td>0.56</td>\n",
       "      <td>1.4</td>\n",
       "      <td>0.310</td>\n",
       "    </tr>\n",
       "    <tr>\n",
       "      <th>5</th>\n",
       "      <td>0.2500</td>\n",
       "      <td>1.0</td>\n",
       "      <td>0.0</td>\n",
       "      <td>0.56</td>\n",
       "      <td>1.2</td>\n",
       "      <td>0.370</td>\n",
       "    </tr>\n",
       "    <tr>\n",
       "      <th>6</th>\n",
       "      <td>0.5000</td>\n",
       "      <td>1.0</td>\n",
       "      <td>0.0</td>\n",
       "      <td>0.56</td>\n",
       "      <td>1.0</td>\n",
       "      <td>0.440</td>\n",
       "    </tr>\n",
       "  </tbody>\n",
       "</table>\n",
       "</div>"
      ],
      "text/plain": [
       "0   Fa/C0  X_e_less  Y_e_less  X_e_great  Y_e_great     e \n",
       "1  0.0025       1.0       0.0       0.56        2.0  0.220\n",
       "2  0.0400       1.0       0.0       0.56        1.8  0.247\n",
       "3  0.0700       1.0       0.0       0.56        1.6  0.270\n",
       "4  0.1300       1.0       0.0       0.56        1.4  0.310\n",
       "5  0.2500       1.0       0.0       0.56        1.2  0.370\n",
       "6  0.5000       1.0       0.0       0.56        1.0  0.440"
      ]
     },
     "execution_count": 99,
     "metadata": {},
     "output_type": "execute_result"
    }
   ],
   "source": [
    "df"
   ]
  },
  {
   "cell_type": "code",
   "execution_count": 98,
   "metadata": {},
   "outputs": [
    {
     "ename": "TypeError",
     "evalue": "only integer scalar arrays can be converted to a scalar index",
     "output_type": "error",
     "traceback": [
      "\u001b[0;31m----------------------------------------------------------------\u001b[0m",
      "\u001b[0;31mTypeError\u001b[0m                      Traceback (most recent call last)",
      "\u001b[0;32m<ipython-input-98-25e9c95cf2ad>\u001b[0m in \u001b[0;36m<module>\u001b[0;34m\u001b[0m\n\u001b[1;32m      1\u001b[0m \u001b[0;32mfor\u001b[0m \u001b[0mi\u001b[0m \u001b[0;32min\u001b[0m \u001b[0ml\u001b[0m\u001b[0;34m:\u001b[0m\u001b[0;34m\u001b[0m\u001b[0;34m\u001b[0m\u001b[0m\n\u001b[0;32m----> 2\u001b[0;31m     \u001b[0ml\u001b[0m\u001b[0;34m[\u001b[0m\u001b[0mi\u001b[0m\u001b[0;34m]\u001b[0m\u001b[0;34m[\u001b[0m\u001b[0mi\u001b[0m\u001b[0;34m]\u001b[0m\u001b[0;34m[\u001b[0m\u001b[0mi\u001b[0m\u001b[0;34m]\u001b[0m\u001b[0;34m\u001b[0m\u001b[0;34m\u001b[0m\u001b[0m\n\u001b[0m",
      "\u001b[0;31mTypeError\u001b[0m: only integer scalar arrays can be converted to a scalar index"
     ]
    }
   ],
   "source": [
    "if num"
   ]
  },
  {
   "cell_type": "code",
   "execution_count": 103,
   "metadata": {},
   "outputs": [
    {
     "data": {
      "text/html": [
       "<div>\n",
       "<style scoped>\n",
       "    .dataframe tbody tr th:only-of-type {\n",
       "        vertical-align: middle;\n",
       "    }\n",
       "\n",
       "    .dataframe tbody tr th {\n",
       "        vertical-align: top;\n",
       "    }\n",
       "\n",
       "    .dataframe thead th {\n",
       "        text-align: right;\n",
       "    }\n",
       "</style>\n",
       "<table border=\"1\" class=\"dataframe\">\n",
       "  <thead>\n",
       "    <tr style=\"text-align: right;\">\n",
       "      <th></th>\n",
       "      <th>d</th>\n",
       "      <th>D</th>\n",
       "      <th>B</th>\n",
       "      <th>C</th>\n",
       "      <th>C0</th>\n",
       "      <th>Pu</th>\n",
       "      <th>Designation</th>\n",
       "    </tr>\n",
       "  </thead>\n",
       "  <tbody>\n",
       "    <tr>\n",
       "      <th>0</th>\n",
       "      <td>20.0</td>\n",
       "      <td>42</td>\n",
       "      <td>12</td>\n",
       "      <td>9.95</td>\n",
       "      <td>5.00</td>\n",
       "      <td>0.212</td>\n",
       "      <td>6004</td>\n",
       "    </tr>\n",
       "    <tr>\n",
       "      <th>1</th>\n",
       "      <td>20.0</td>\n",
       "      <td>47</td>\n",
       "      <td>14</td>\n",
       "      <td>13.50</td>\n",
       "      <td>6.55</td>\n",
       "      <td>0.280</td>\n",
       "      <td>6204</td>\n",
       "    </tr>\n",
       "    <tr>\n",
       "      <th>2</th>\n",
       "      <td>20.0</td>\n",
       "      <td>52</td>\n",
       "      <td>15</td>\n",
       "      <td>16.80</td>\n",
       "      <td>7.80</td>\n",
       "      <td>0.335</td>\n",
       "      <td>6304</td>\n",
       "    </tr>\n",
       "    <tr>\n",
       "      <th>3</th>\n",
       "      <td>20.0</td>\n",
       "      <td>72</td>\n",
       "      <td>19</td>\n",
       "      <td>30.70</td>\n",
       "      <td>15.00</td>\n",
       "      <td>0.640</td>\n",
       "      <td>6404</td>\n",
       "    </tr>\n",
       "    <tr>\n",
       "      <th>4</th>\n",
       "      <td>25.0</td>\n",
       "      <td>47</td>\n",
       "      <td>12</td>\n",
       "      <td>11.90</td>\n",
       "      <td>6.55</td>\n",
       "      <td>0.275</td>\n",
       "      <td>6005</td>\n",
       "    </tr>\n",
       "    <tr>\n",
       "      <th>...</th>\n",
       "      <td>...</td>\n",
       "      <td>...</td>\n",
       "      <td>...</td>\n",
       "      <td>...</td>\n",
       "      <td>...</td>\n",
       "      <td>...</td>\n",
       "      <td>...</td>\n",
       "    </tr>\n",
       "    <tr>\n",
       "      <th>61</th>\n",
       "      <td>95.0</td>\n",
       "      <td>170</td>\n",
       "      <td>32</td>\n",
       "      <td>114.00</td>\n",
       "      <td>81.50</td>\n",
       "      <td>3.000</td>\n",
       "      <td>6219</td>\n",
       "    </tr>\n",
       "    <tr>\n",
       "      <th>62</th>\n",
       "      <td>95.0</td>\n",
       "      <td>200</td>\n",
       "      <td>45</td>\n",
       "      <td>159.00</td>\n",
       "      <td>118.00</td>\n",
       "      <td>4.150</td>\n",
       "      <td>6319</td>\n",
       "    </tr>\n",
       "    <tr>\n",
       "      <th>63</th>\n",
       "      <td>100.0</td>\n",
       "      <td>150</td>\n",
       "      <td>24</td>\n",
       "      <td>63.70</td>\n",
       "      <td>54.00</td>\n",
       "      <td>2.040</td>\n",
       "      <td>6024</td>\n",
       "    </tr>\n",
       "    <tr>\n",
       "      <th>64</th>\n",
       "      <td>100.0</td>\n",
       "      <td>180</td>\n",
       "      <td>34</td>\n",
       "      <td>127.00</td>\n",
       "      <td>93.00</td>\n",
       "      <td>3.350</td>\n",
       "      <td>6220</td>\n",
       "    </tr>\n",
       "    <tr>\n",
       "      <th>65</th>\n",
       "      <td>100.0</td>\n",
       "      <td>215</td>\n",
       "      <td>47</td>\n",
       "      <td>174.00</td>\n",
       "      <td>140.00</td>\n",
       "      <td>4.750</td>\n",
       "      <td>6320</td>\n",
       "    </tr>\n",
       "  </tbody>\n",
       "</table>\n",
       "<p>66 rows × 7 columns</p>\n",
       "</div>"
      ],
      "text/plain": [
       "        d    D   B       C      C0     Pu  Designation\n",
       "0    20.0   42  12    9.95    5.00  0.212         6004\n",
       "1    20.0   47  14   13.50    6.55  0.280         6204\n",
       "2    20.0   52  15   16.80    7.80  0.335         6304\n",
       "3    20.0   72  19   30.70   15.00  0.640         6404\n",
       "4    25.0   47  12   11.90    6.55  0.275         6005\n",
       "..    ...  ...  ..     ...     ...    ...          ...\n",
       "61   95.0  170  32  114.00   81.50  3.000         6219\n",
       "62   95.0  200  45  159.00  118.00  4.150         6319\n",
       "63  100.0  150  24   63.70   54.00  2.040         6024\n",
       "64  100.0  180  34  127.00   93.00  3.350         6220\n",
       "65  100.0  215  47  174.00  140.00  4.750         6320\n",
       "\n",
       "[66 rows x 7 columns]"
      ]
     },
     "execution_count": 103,
     "metadata": {},
     "output_type": "execute_result"
    }
   ],
   "source": [
    "bearing = pd.read_excel(\"Book2.xlsx\") \n",
    "bearing.d = bearing.d.fillna(method=\"ffill\")\n",
    "bearing"
   ]
  },
  {
   "cell_type": "code",
   "execution_count": 104,
   "metadata": {},
   "outputs": [
    {
     "data": {
      "text/plain": [
       "d              float64\n",
       "D                int64\n",
       "B                int64\n",
       "C              float64\n",
       "C0             float64\n",
       "Pu             float64\n",
       "Designation      int64\n",
       "dtype: object"
      ]
     },
     "execution_count": 104,
     "metadata": {},
     "output_type": "execute_result"
    }
   ],
   "source": [
    "bearing.dtypes"
   ]
  },
  {
   "cell_type": "code",
   "execution_count": 106,
   "metadata": {},
   "outputs": [
    {
     "data": {
      "text/plain": [
       "20.0     4\n",
       "50.0     4\n",
       "55.0     4\n",
       "25.0     4\n",
       "30.0     4\n",
       "35.0     4\n",
       "40.0     4\n",
       "45.0     4\n",
       "60.0     4\n",
       "65.0     4\n",
       "70.0     4\n",
       "75.0     4\n",
       "80.0     4\n",
       "85.0     4\n",
       "90.0     4\n",
       "95.0     3\n",
       "100.0    3\n",
       "Name: d, dtype: int64"
      ]
     },
     "execution_count": 106,
     "metadata": {},
     "output_type": "execute_result"
    }
   ],
   "source": [
    "bearing.d.value_counts().sort_values(ascending=False)"
   ]
  },
  {
   "cell_type": "code",
   "execution_count": 493,
   "metadata": {},
   "outputs": [
    {
     "name": "stdin",
     "output_type": "stream",
     "text": [
      "ENter the rpm:  1400\n",
      "ENter the Radial load 3000\n",
      "ENter the axial load 2500\n",
      "years_to_run:  3\n",
      "years_to_run in hours:  8\n"
     ]
    },
    {
     "data": {
      "text/plain": [
       "8760"
      ]
     },
     "execution_count": 493,
     "metadata": {},
     "output_type": "execute_result"
    }
   ],
   "source": [
    "N = int(input(\"ENter the rpm: \"))\n",
    "fr = int(input(\"ENter the Radial load\"))\n",
    "fa = int(input(\"ENter the axial load\"))\n",
    "years_to_run = int(input(\"years_to_run: \"))\n",
    "per_day_run =  int(input(\"years_to_run in hours: \"))\n",
    "total_life = per_day_run*years_to_run*365\n",
    "total_life"
   ]
  },
  {
   "cell_type": "code",
   "execution_count": 494,
   "metadata": {},
   "outputs": [
    {
     "data": {
      "text/plain": [
       "(1400, 3000, 2500, 3, 8, 8760)"
      ]
     },
     "execution_count": 494,
     "metadata": {},
     "output_type": "execute_result"
    }
   ],
   "source": [
    "(N,fr,fa,years_to_run,per_day_run,total_life)"
   ]
  },
  {
   "cell_type": "code",
   "execution_count": 470,
   "metadata": {},
   "outputs": [
    {
     "data": {
      "text/html": [
       "<div>\n",
       "<style scoped>\n",
       "    .dataframe tbody tr th:only-of-type {\n",
       "        vertical-align: middle;\n",
       "    }\n",
       "\n",
       "    .dataframe tbody tr th {\n",
       "        vertical-align: top;\n",
       "    }\n",
       "\n",
       "    .dataframe thead th {\n",
       "        text-align: right;\n",
       "    }\n",
       "</style>\n",
       "<table border=\"1\" class=\"dataframe\">\n",
       "  <thead>\n",
       "    <tr style=\"text-align: right;\">\n",
       "      <th></th>\n",
       "      <th>d</th>\n",
       "      <th>D</th>\n",
       "      <th>B</th>\n",
       "      <th>C</th>\n",
       "      <th>C0</th>\n",
       "      <th>Pu</th>\n",
       "      <th>Designation</th>\n",
       "    </tr>\n",
       "  </thead>\n",
       "  <tbody>\n",
       "    <tr>\n",
       "      <th>0</th>\n",
       "      <td>20.0</td>\n",
       "      <td>42</td>\n",
       "      <td>12</td>\n",
       "      <td>9950.0</td>\n",
       "      <td>5000.0</td>\n",
       "      <td>0.212</td>\n",
       "      <td>6004</td>\n",
       "    </tr>\n",
       "    <tr>\n",
       "      <th>1</th>\n",
       "      <td>20.0</td>\n",
       "      <td>47</td>\n",
       "      <td>14</td>\n",
       "      <td>13500.0</td>\n",
       "      <td>6550.0</td>\n",
       "      <td>0.280</td>\n",
       "      <td>6204</td>\n",
       "    </tr>\n",
       "    <tr>\n",
       "      <th>2</th>\n",
       "      <td>20.0</td>\n",
       "      <td>52</td>\n",
       "      <td>15</td>\n",
       "      <td>16800.0</td>\n",
       "      <td>7800.0</td>\n",
       "      <td>0.335</td>\n",
       "      <td>6304</td>\n",
       "    </tr>\n",
       "    <tr>\n",
       "      <th>3</th>\n",
       "      <td>20.0</td>\n",
       "      <td>72</td>\n",
       "      <td>19</td>\n",
       "      <td>30700.0</td>\n",
       "      <td>15000.0</td>\n",
       "      <td>0.640</td>\n",
       "      <td>6404</td>\n",
       "    </tr>\n",
       "    <tr>\n",
       "      <th>4</th>\n",
       "      <td>25.0</td>\n",
       "      <td>47</td>\n",
       "      <td>12</td>\n",
       "      <td>11900.0</td>\n",
       "      <td>6550.0</td>\n",
       "      <td>0.275</td>\n",
       "      <td>6005</td>\n",
       "    </tr>\n",
       "    <tr>\n",
       "      <th>...</th>\n",
       "      <td>...</td>\n",
       "      <td>...</td>\n",
       "      <td>...</td>\n",
       "      <td>...</td>\n",
       "      <td>...</td>\n",
       "      <td>...</td>\n",
       "      <td>...</td>\n",
       "    </tr>\n",
       "    <tr>\n",
       "      <th>61</th>\n",
       "      <td>95.0</td>\n",
       "      <td>170</td>\n",
       "      <td>32</td>\n",
       "      <td>114000.0</td>\n",
       "      <td>81500.0</td>\n",
       "      <td>3.000</td>\n",
       "      <td>6219</td>\n",
       "    </tr>\n",
       "    <tr>\n",
       "      <th>62</th>\n",
       "      <td>95.0</td>\n",
       "      <td>200</td>\n",
       "      <td>45</td>\n",
       "      <td>159000.0</td>\n",
       "      <td>118000.0</td>\n",
       "      <td>4.150</td>\n",
       "      <td>6319</td>\n",
       "    </tr>\n",
       "    <tr>\n",
       "      <th>63</th>\n",
       "      <td>100.0</td>\n",
       "      <td>150</td>\n",
       "      <td>24</td>\n",
       "      <td>63700.0</td>\n",
       "      <td>54000.0</td>\n",
       "      <td>2.040</td>\n",
       "      <td>6024</td>\n",
       "    </tr>\n",
       "    <tr>\n",
       "      <th>64</th>\n",
       "      <td>100.0</td>\n",
       "      <td>180</td>\n",
       "      <td>34</td>\n",
       "      <td>127000.0</td>\n",
       "      <td>93000.0</td>\n",
       "      <td>3.350</td>\n",
       "      <td>6220</td>\n",
       "    </tr>\n",
       "    <tr>\n",
       "      <th>65</th>\n",
       "      <td>100.0</td>\n",
       "      <td>215</td>\n",
       "      <td>47</td>\n",
       "      <td>174000.0</td>\n",
       "      <td>140000.0</td>\n",
       "      <td>4.750</td>\n",
       "      <td>6320</td>\n",
       "    </tr>\n",
       "  </tbody>\n",
       "</table>\n",
       "<p>66 rows × 7 columns</p>\n",
       "</div>"
      ],
      "text/plain": [
       "        d    D   B         C        C0     Pu  Designation\n",
       "0    20.0   42  12    9950.0    5000.0  0.212         6004\n",
       "1    20.0   47  14   13500.0    6550.0  0.280         6204\n",
       "2    20.0   52  15   16800.0    7800.0  0.335         6304\n",
       "3    20.0   72  19   30700.0   15000.0  0.640         6404\n",
       "4    25.0   47  12   11900.0    6550.0  0.275         6005\n",
       "..    ...  ...  ..       ...       ...    ...          ...\n",
       "61   95.0  170  32  114000.0   81500.0  3.000         6219\n",
       "62   95.0  200  45  159000.0  118000.0  4.150         6319\n",
       "63  100.0  150  24   63700.0   54000.0  2.040         6024\n",
       "64  100.0  180  34  127000.0   93000.0  3.350         6220\n",
       "65  100.0  215  47  174000.0  140000.0  4.750         6320\n",
       "\n",
       "[66 rows x 7 columns]"
      ]
     },
     "execution_count": 470,
     "metadata": {},
     "output_type": "execute_result"
    }
   ],
   "source": [
    "bearing = pd.read_excel(\"Book2.xlsx\") \n",
    "bearing.d = bearing.d.fillna(method=\"ffill\")\n",
    "bearing.C = bearing.C*1000\n",
    "bearing.C0 = bearing.C0*1000\n",
    "bearing"
   ]
  },
  {
   "cell_type": "code",
   "execution_count": 471,
   "metadata": {},
   "outputs": [
    {
     "data": {
      "text/html": [
       "<div>\n",
       "<style scoped>\n",
       "    .dataframe tbody tr th:only-of-type {\n",
       "        vertical-align: middle;\n",
       "    }\n",
       "\n",
       "    .dataframe tbody tr th {\n",
       "        vertical-align: top;\n",
       "    }\n",
       "\n",
       "    .dataframe thead th {\n",
       "        text-align: right;\n",
       "    }\n",
       "</style>\n",
       "<table border=\"1\" class=\"dataframe\">\n",
       "  <thead>\n",
       "    <tr style=\"text-align: right;\">\n",
       "      <th></th>\n",
       "      <th>Fa/C0</th>\n",
       "      <th>X_e_less</th>\n",
       "      <th>Y_e_less</th>\n",
       "      <th>X_e_great</th>\n",
       "      <th>Y_e_great</th>\n",
       "      <th>e</th>\n",
       "    </tr>\n",
       "  </thead>\n",
       "  <tbody>\n",
       "    <tr>\n",
       "      <th>1</th>\n",
       "      <td>0.0025</td>\n",
       "      <td>1.0</td>\n",
       "      <td>0.0</td>\n",
       "      <td>0.56</td>\n",
       "      <td>2.0</td>\n",
       "      <td>0.220</td>\n",
       "    </tr>\n",
       "    <tr>\n",
       "      <th>2</th>\n",
       "      <td>0.0400</td>\n",
       "      <td>1.0</td>\n",
       "      <td>0.0</td>\n",
       "      <td>0.56</td>\n",
       "      <td>1.8</td>\n",
       "      <td>0.247</td>\n",
       "    </tr>\n",
       "    <tr>\n",
       "      <th>3</th>\n",
       "      <td>0.0700</td>\n",
       "      <td>1.0</td>\n",
       "      <td>0.0</td>\n",
       "      <td>0.56</td>\n",
       "      <td>1.6</td>\n",
       "      <td>0.270</td>\n",
       "    </tr>\n",
       "    <tr>\n",
       "      <th>4</th>\n",
       "      <td>0.1300</td>\n",
       "      <td>1.0</td>\n",
       "      <td>0.0</td>\n",
       "      <td>0.56</td>\n",
       "      <td>1.4</td>\n",
       "      <td>0.310</td>\n",
       "    </tr>\n",
       "    <tr>\n",
       "      <th>5</th>\n",
       "      <td>0.2500</td>\n",
       "      <td>1.0</td>\n",
       "      <td>0.0</td>\n",
       "      <td>0.56</td>\n",
       "      <td>1.2</td>\n",
       "      <td>0.370</td>\n",
       "    </tr>\n",
       "    <tr>\n",
       "      <th>6</th>\n",
       "      <td>0.5000</td>\n",
       "      <td>1.0</td>\n",
       "      <td>0.0</td>\n",
       "      <td>0.56</td>\n",
       "      <td>1.0</td>\n",
       "      <td>0.440</td>\n",
       "    </tr>\n",
       "  </tbody>\n",
       "</table>\n",
       "</div>"
      ],
      "text/plain": [
       "0   Fa/C0  X_e_less  Y_e_less  X_e_great  Y_e_great     e \n",
       "1  0.0025       1.0       0.0       0.56        2.0  0.220\n",
       "2  0.0400       1.0       0.0       0.56        1.8  0.247\n",
       "3  0.0700       1.0       0.0       0.56        1.6  0.270\n",
       "4  0.1300       1.0       0.0       0.56        1.4  0.310\n",
       "5  0.2500       1.0       0.0       0.56        1.2  0.370\n",
       "6  0.5000       1.0       0.0       0.56        1.0  0.440"
      ]
     },
     "execution_count": 471,
     "metadata": {},
     "output_type": "execute_result"
    }
   ],
   "source": [
    "e = pd.read_excel(\"equilent_load.xlsx\",header=0)\n",
    "e = e.T.set_index(0).T\n",
    "e = e.astype(float)\n",
    "e"
   ]
  },
  {
   "cell_type": "code",
   "execution_count": 495,
   "metadata": {},
   "outputs": [
    {
     "name": "stdout",
     "output_type": "stream",
     "text": [
      "[ 20.  25.  30.  35.  40.  45.  50.  55.  60.  65.  70.  75.  80.  85.\n",
      "  90.  95. 100.]\n"
     ]
    },
    {
     "name": "stdin",
     "output_type": "stream",
     "text": [
      "Select dia from 20 to 100mm :  50\n"
     ]
    },
    {
     "name": "stdout",
     "output_type": "stream",
     "text": [
      "24    6010\n",
      "25    6210\n",
      "26    6310\n",
      "27    6410\n",
      "Name: Designation, dtype: int64\n"
     ]
    },
    {
     "name": "stdin",
     "output_type": "stream",
     "text": [
      "Select designation from above:  6210\n"
     ]
    }
   ],
   "source": [
    "print(bearing.d.unique())\n",
    "dia = int(input(\"Select dia from 20 to 100mm : \"))\n",
    "new_dia_values = bearing[bearing.d==dia]\n",
    "print(new_dia_values.Designation)\n",
    "choose_designation = int(input(\"Select designation from above: \"))\n",
    "new_dia_values = bearing[bearing.Designation==choose_designation]"
   ]
  },
  {
   "cell_type": "code",
   "execution_count": 496,
   "metadata": {},
   "outputs": [
    {
     "data": {
      "text/html": [
       "<div>\n",
       "<style scoped>\n",
       "    .dataframe tbody tr th:only-of-type {\n",
       "        vertical-align: middle;\n",
       "    }\n",
       "\n",
       "    .dataframe tbody tr th {\n",
       "        vertical-align: top;\n",
       "    }\n",
       "\n",
       "    .dataframe thead th {\n",
       "        text-align: right;\n",
       "    }\n",
       "</style>\n",
       "<table border=\"1\" class=\"dataframe\">\n",
       "  <thead>\n",
       "    <tr style=\"text-align: right;\">\n",
       "      <th></th>\n",
       "      <th>d</th>\n",
       "      <th>D</th>\n",
       "      <th>B</th>\n",
       "      <th>C</th>\n",
       "      <th>C0</th>\n",
       "      <th>Pu</th>\n",
       "      <th>Designation</th>\n",
       "    </tr>\n",
       "  </thead>\n",
       "  <tbody>\n",
       "    <tr>\n",
       "      <th>25</th>\n",
       "      <td>50.0</td>\n",
       "      <td>90</td>\n",
       "      <td>20</td>\n",
       "      <td>37100.0</td>\n",
       "      <td>23200.0</td>\n",
       "      <td>0.98</td>\n",
       "      <td>6210</td>\n",
       "    </tr>\n",
       "  </tbody>\n",
       "</table>\n",
       "</div>"
      ],
      "text/plain": [
       "       d   D   B        C       C0    Pu  Designation\n",
       "25  50.0  90  20  37100.0  23200.0  0.98         6210"
      ]
     },
     "execution_count": 496,
     "metadata": {},
     "output_type": "execute_result"
    }
   ],
   "source": [
    "new_dia_values"
   ]
  },
  {
   "cell_type": "code",
   "execution_count": 497,
   "metadata": {},
   "outputs": [
    {
     "data": {
      "text/plain": [
       "0.8333333333333334"
      ]
     },
     "execution_count": 497,
     "metadata": {},
     "output_type": "execute_result"
    }
   ],
   "source": [
    "fafr = fa/fr\n",
    "fafr"
   ]
  },
  {
   "cell_type": "code",
   "execution_count": 498,
   "metadata": {},
   "outputs": [
    {
     "data": {
      "text/plain": [
       "0.11"
      ]
     },
     "execution_count": 498,
     "metadata": {},
     "output_type": "execute_result"
    }
   ],
   "source": [
    "fac0 = float(fa/(new_dia_values.C0))\n",
    "fac0 = round(fac0,2)\n",
    "fac0"
   ]
  },
  {
   "cell_type": "code",
   "execution_count": 477,
   "metadata": {},
   "outputs": [
    {
     "data": {
      "text/html": [
       "<div>\n",
       "<style scoped>\n",
       "    .dataframe tbody tr th:only-of-type {\n",
       "        vertical-align: middle;\n",
       "    }\n",
       "\n",
       "    .dataframe tbody tr th {\n",
       "        vertical-align: top;\n",
       "    }\n",
       "\n",
       "    .dataframe thead th {\n",
       "        text-align: right;\n",
       "    }\n",
       "</style>\n",
       "<table border=\"1\" class=\"dataframe\">\n",
       "  <thead>\n",
       "    <tr style=\"text-align: right;\">\n",
       "      <th></th>\n",
       "      <th>Fa/C0</th>\n",
       "      <th>X_e_less</th>\n",
       "      <th>Y_e_less</th>\n",
       "      <th>X_e_great</th>\n",
       "      <th>Y_e_great</th>\n",
       "      <th>e</th>\n",
       "    </tr>\n",
       "  </thead>\n",
       "  <tbody>\n",
       "    <tr>\n",
       "      <th>1</th>\n",
       "      <td>0.0025</td>\n",
       "      <td>1.0</td>\n",
       "      <td>0.0</td>\n",
       "      <td>0.56</td>\n",
       "      <td>2.0</td>\n",
       "      <td>0.220</td>\n",
       "    </tr>\n",
       "    <tr>\n",
       "      <th>2</th>\n",
       "      <td>0.0400</td>\n",
       "      <td>1.0</td>\n",
       "      <td>0.0</td>\n",
       "      <td>0.56</td>\n",
       "      <td>1.8</td>\n",
       "      <td>0.247</td>\n",
       "    </tr>\n",
       "    <tr>\n",
       "      <th>3</th>\n",
       "      <td>0.0700</td>\n",
       "      <td>1.0</td>\n",
       "      <td>0.0</td>\n",
       "      <td>0.56</td>\n",
       "      <td>1.6</td>\n",
       "      <td>0.270</td>\n",
       "    </tr>\n",
       "    <tr>\n",
       "      <th>4</th>\n",
       "      <td>0.1300</td>\n",
       "      <td>1.0</td>\n",
       "      <td>0.0</td>\n",
       "      <td>0.56</td>\n",
       "      <td>1.4</td>\n",
       "      <td>0.310</td>\n",
       "    </tr>\n",
       "    <tr>\n",
       "      <th>5</th>\n",
       "      <td>0.2500</td>\n",
       "      <td>1.0</td>\n",
       "      <td>0.0</td>\n",
       "      <td>0.56</td>\n",
       "      <td>1.2</td>\n",
       "      <td>0.370</td>\n",
       "    </tr>\n",
       "    <tr>\n",
       "      <th>6</th>\n",
       "      <td>0.5000</td>\n",
       "      <td>1.0</td>\n",
       "      <td>0.0</td>\n",
       "      <td>0.56</td>\n",
       "      <td>1.0</td>\n",
       "      <td>0.440</td>\n",
       "    </tr>\n",
       "  </tbody>\n",
       "</table>\n",
       "</div>"
      ],
      "text/plain": [
       "0   Fa/C0  X_e_less  Y_e_less  X_e_great  Y_e_great     e \n",
       "1  0.0025       1.0       0.0       0.56        2.0  0.220\n",
       "2  0.0400       1.0       0.0       0.56        1.8  0.247\n",
       "3  0.0700       1.0       0.0       0.56        1.6  0.270\n",
       "4  0.1300       1.0       0.0       0.56        1.4  0.310\n",
       "5  0.2500       1.0       0.0       0.56        1.2  0.370\n",
       "6  0.5000       1.0       0.0       0.56        1.0  0.440"
      ]
     },
     "execution_count": 477,
     "metadata": {},
     "output_type": "execute_result"
    }
   ],
   "source": [
    "e"
   ]
  },
  {
   "cell_type": "code",
   "execution_count": 499,
   "metadata": {},
   "outputs": [],
   "source": [
    "if fafr <= 0.44:\n",
    "    X = 1\n",
    "    Y = 0\n",
    "    print(X,Y)\n",
    "elif fafr > 0.44:\n",
    "    X = 0.56\n",
    "    if fac0 >= e['Fa/C0'][1] and fac0 <= e['Fa/C0'][2]:\n",
    "        Y=1.9\n",
    "    elif fac0 >= e['Fa/C0'][2] and fac0 <= e['Fa/C0'][3]:\n",
    "        Y = 1.7\n",
    "    elif fac0 >= e['Fa/C0'][3] and fac0 <= e['Fa/C0'][4]:\n",
    "        Y = 1.5\n",
    "    elif fac0 >= e['Fa/C0'][4] and fac0 <= e['Fa/C0'][5]:\n",
    "        Y = 1.3\n",
    "    elif fac0 >= e['Fa/C0'][5] and fac0 <= e['Fa/C0'][6]:\n",
    "        Y = 1.1\n",
    "else:\n",
    "    print(\"unable\")\n"
   ]
  },
  {
   "cell_type": "code",
   "execution_count": 500,
   "metadata": {},
   "outputs": [
    {
     "data": {
      "text/plain": [
       "(0.56, 1.5)"
      ]
     },
     "execution_count": 500,
     "metadata": {},
     "output_type": "execute_result"
    }
   ],
   "source": [
    "X,Y"
   ]
  },
  {
   "cell_type": "code",
   "execution_count": 480,
   "metadata": {},
   "outputs": [],
   "source": [
    "e['Fa/C0'] = round(e['Fa/C0'],2)"
   ]
  },
  {
   "cell_type": "code",
   "execution_count": 481,
   "metadata": {},
   "outputs": [
    {
     "data": {
      "text/plain": [
       "1    0.00\n",
       "2    0.04\n",
       "3    0.07\n",
       "4    0.13\n",
       "5    0.25\n",
       "6    0.50\n",
       "Name: Fa/C0, dtype: float64"
      ]
     },
     "execution_count": 481,
     "metadata": {},
     "output_type": "execute_result"
    }
   ],
   "source": [
    "e['Fa/C0']"
   ]
  },
  {
   "cell_type": "code",
   "execution_count": 501,
   "metadata": {},
   "outputs": [
    {
     "data": {
      "text/plain": [
       "(0.56, 1.5, 3000, 2500)"
      ]
     },
     "execution_count": 501,
     "metadata": {},
     "output_type": "execute_result"
    }
   ],
   "source": [
    "(X,Y,fr,fa)"
   ]
  },
  {
   "cell_type": "code",
   "execution_count": 502,
   "metadata": {},
   "outputs": [
    {
     "name": "stdout",
     "output_type": "stream",
     "text": [
      "[1.3, 1.4, 1.5, 1.6, 1.7, 1.8, 1.9]\n"
     ]
    },
    {
     "name": "stdin",
     "output_type": "stream",
     "text": [
      "ENter fos:  1.8\n"
     ]
    },
    {
     "name": "stdout",
     "output_type": "stream",
     "text": [
      "1.8\n",
      "9774.0\n"
     ]
    }
   ],
   "source": [
    "l = [1.3,1.4,1.5,1.6,1.7,1.8,1.9]\n",
    "print(l)\n",
    "s = float(input(\"ENter fos: \"))\n",
    "print(s)\n",
    "P = ((X*fr)+(Y*fa))*s \n",
    "print(P)"
   ]
  },
  {
   "cell_type": "code",
   "execution_count": 503,
   "metadata": {},
   "outputs": [
    {
     "data": {
      "text/plain": [
       "89041.14"
      ]
     },
     "execution_count": 503,
     "metadata": {},
     "output_type": "execute_result"
    }
   ],
   "source": [
    "cfind = P * 9.11\n",
    "cfind"
   ]
  },
  {
   "cell_type": "code",
   "execution_count": 504,
   "metadata": {},
   "outputs": [
    {
     "name": "stdout",
     "output_type": "stream",
     "text": [
      "Not safe\n"
     ]
    }
   ],
   "source": [
    "if cfind > float(new_dia_values.C):\n",
    "    print(\"Not safe\")\n",
    "elif  cfind < float(new_dia_values.C):\n",
    "    print(f\"Bearing is safe:::{float(new_dia_values.C)} < {c}\")"
   ]
  },
  {
   "cell_type": "code",
   "execution_count": 318,
   "metadata": {},
   "outputs": [
    {
     "data": {
      "text/plain": [
       "16800.0"
      ]
     },
     "execution_count": 318,
     "metadata": {},
     "output_type": "execute_result"
    }
   ],
   "source": [
    "float(new_dia_values.C)"
   ]
  },
  {
   "cell_type": "code",
   "execution_count": 394,
   "metadata": {},
   "outputs": [
    {
     "name": "stdin",
     "output_type": "stream",
     "text": [
      "ENter the rpm:  1200\n",
      "ENter the Radial load 2000\n",
      "ENter the axial load 3000\n",
      "years_to_run:  3\n",
      "years_to_run in hours:  8\n"
     ]
    },
    {
     "data": {
      "text/plain": [
       "8760"
      ]
     },
     "execution_count": 394,
     "metadata": {},
     "output_type": "execute_result"
    }
   ],
   "source": [
    "N = int(input(\"ENter the rpm: \"))\n",
    "fr = int(input(\"ENter the Radial load\"))\n",
    "fa = int(input(\"ENter the axial load\"))\n",
    "years_to_run = int(input(\"years_to_run: \"))\n",
    "per_day_run =  int(input(\"years_to_run in hours: \"))\n",
    "total_life = per_day_run*years_to_run*365\n",
    "total_life\n"
   ]
  },
  {
   "cell_type": "code",
   "execution_count": 395,
   "metadata": {},
   "outputs": [
    {
     "name": "stdout",
     "output_type": "stream",
     "text": [
      "[ 20.  25.  30.  35.  40.  45.  50.  55.  60.  65.  70.  75.  80.  85.\n",
      "  90.  95. 100.]\n"
     ]
    },
    {
     "name": "stdin",
     "output_type": "stream",
     "text": [
      "Select dia from 20 to 100mm :  55\n"
     ]
    },
    {
     "name": "stdout",
     "output_type": "stream",
     "text": [
      "28    6011\n",
      "29    6211\n",
      "30    6311\n",
      "31    6411\n",
      "Name: Designation, dtype: int64\n"
     ]
    },
    {
     "name": "stdin",
     "output_type": "stream",
     "text": [
      "Select designation from above:  6411\n"
     ]
    },
    {
     "data": {
      "text/html": [
       "<div>\n",
       "<style scoped>\n",
       "    .dataframe tbody tr th:only-of-type {\n",
       "        vertical-align: middle;\n",
       "    }\n",
       "\n",
       "    .dataframe tbody tr th {\n",
       "        vertical-align: top;\n",
       "    }\n",
       "\n",
       "    .dataframe thead th {\n",
       "        text-align: right;\n",
       "    }\n",
       "</style>\n",
       "<table border=\"1\" class=\"dataframe\">\n",
       "  <thead>\n",
       "    <tr style=\"text-align: right;\">\n",
       "      <th></th>\n",
       "      <th>d</th>\n",
       "      <th>D</th>\n",
       "      <th>B</th>\n",
       "      <th>C</th>\n",
       "      <th>C0</th>\n",
       "      <th>Pu</th>\n",
       "      <th>Designation</th>\n",
       "    </tr>\n",
       "  </thead>\n",
       "  <tbody>\n",
       "    <tr>\n",
       "      <th>31</th>\n",
       "      <td>55.0</td>\n",
       "      <td>140</td>\n",
       "      <td>33</td>\n",
       "      <td>99500.0</td>\n",
       "      <td>62000.0</td>\n",
       "      <td>2.6</td>\n",
       "      <td>6411</td>\n",
       "    </tr>\n",
       "  </tbody>\n",
       "</table>\n",
       "</div>"
      ],
      "text/plain": [
       "       d    D   B        C       C0   Pu  Designation\n",
       "31  55.0  140  33  99500.0  62000.0  2.6         6411"
      ]
     },
     "execution_count": 395,
     "metadata": {},
     "output_type": "execute_result"
    }
   ],
   "source": [
    "print(bearing.d.unique())\n",
    "dia = int(input(\"Select dia from 20 to 100mm : \"))\n",
    "new_dia_values = bearing[bearing.d==dia]\n",
    "print(new_dia_values.Designation)\n",
    "choose_designation = int(input(\"Select designation from above: \"))\n",
    "new_dia_values = bearing[bearing.Designation==choose_designation]\n",
    "new_dia_values"
   ]
  },
  {
   "cell_type": "code",
   "execution_count": 396,
   "metadata": {},
   "outputs": [
    {
     "data": {
      "text/plain": [
       "1.5"
      ]
     },
     "execution_count": 396,
     "metadata": {},
     "output_type": "execute_result"
    }
   ],
   "source": [
    "fafr = fa/fr\n",
    "fafr"
   ]
  },
  {
   "cell_type": "code",
   "execution_count": 397,
   "metadata": {},
   "outputs": [
    {
     "data": {
      "text/plain": [
       "0.05"
      ]
     },
     "execution_count": 397,
     "metadata": {},
     "output_type": "execute_result"
    }
   ],
   "source": [
    "fac0 = float(fa/(new_dia_values.C0))\n",
    "fac0 = round(fac0,2)\n",
    "fac0"
   ]
  },
  {
   "cell_type": "code",
   "execution_count": 398,
   "metadata": {},
   "outputs": [],
   "source": [
    "if fafr <= 0.44:\n",
    "    X = 1\n",
    "    Y = 0\n",
    "    print(X,Y)\n",
    "elif fafr > 0.44:\n",
    "    X = 0.56\n",
    "    if fac0 < e['Fa/C0'][1] and fac0 >= e['Fa/C0'][2]:\n",
    "        Y=1.9\n",
    "    elif fac0 < e['Fa/C0'][2] and fac0 >= e['Fa/C0'][3]:\n",
    "        Y = 1.7\n",
    "    elif fac0 < e['Fa/C0'][3] and fac0 >= e['Fa/C0'][4]:\n",
    "        Y = 1.5\n",
    "    elif fac0 < e['Fa/C0'][4] and fac0 >= e['Fa/C0'][5]:\n",
    "        Y = 1.3\n",
    "    elif fac0 < e['Fa/C0'][5] and fac0 >= e['Fa/C0'][6]:\n",
    "        Y = 1.1\n",
    "else:\n",
    "    print(\"unable\")"
   ]
  },
  {
   "cell_type": "code",
   "execution_count": 399,
   "metadata": {},
   "outputs": [
    {
     "data": {
      "text/plain": [
       "(0.56, 1.5)"
      ]
     },
     "execution_count": 399,
     "metadata": {},
     "output_type": "execute_result"
    }
   ],
   "source": [
    "Y = 1.5\n",
    "X,Y"
   ]
  },
  {
   "cell_type": "code",
   "execution_count": 400,
   "metadata": {},
   "outputs": [
    {
     "name": "stdout",
     "output_type": "stream",
     "text": [
      "[1.3, 1.4, 1.5, 1.6, 1.7, 1.8, 1.9]\n"
     ]
    },
    {
     "name": "stdin",
     "output_type": "stream",
     "text": [
      "ENter fos:  1.6\n"
     ]
    },
    {
     "name": "stdout",
     "output_type": "stream",
     "text": [
      "1.6\n",
      "8992.0\n"
     ]
    }
   ],
   "source": [
    "l = [1.3,1.4,1.5,1.6,1.7,1.8,1.9]\n",
    "print(l)\n",
    "s = float(input(\"ENter fos: \"))\n",
    "print(s)\n",
    "P = ((X*fr)+(Y*fa))*s \n",
    "print(P)"
   ]
  },
  {
   "cell_type": "code",
   "execution_count": 401,
   "metadata": {},
   "outputs": [
    {
     "data": {
      "text/plain": [
       "81917.12"
      ]
     },
     "execution_count": 401,
     "metadata": {},
     "output_type": "execute_result"
    }
   ],
   "source": [
    "cfind = P * 9.11\n",
    "cfind"
   ]
  },
  {
   "cell_type": "code",
   "execution_count": 402,
   "metadata": {},
   "outputs": [
    {
     "name": "stdout",
     "output_type": "stream",
     "text": [
      "Bearing is safe:::81917.12 < 99500.0\n"
     ]
    }
   ],
   "source": [
    "float(new_dia_values.C)\n",
    "if cfind > float(new_dia_values.C):\n",
    "    print(\"Not safe\")\n",
    "elif  cfind < float(new_dia_values.C):\n",
    "    print(f\"Bearing is safe:::{cfind} < {float(new_dia_values.C)}\")"
   ]
  },
  {
   "cell_type": "code",
   "execution_count": 388,
   "metadata": {},
   "outputs": [
    {
     "name": "stdout",
     "output_type": "stream",
     "text": [
      "[ 20.  25.  30.  35.  40.  45.  50.  55.  60.  65.  70.  75.  80.  85.\n",
      "  90.  95. 100.]\n"
     ]
    },
    {
     "name": "stdin",
     "output_type": "stream",
     "text": [
      "Select dia from 20 to 100mm :  40\n"
     ]
    },
    {
     "name": "stdout",
     "output_type": "stream",
     "text": [
      "16    6008\n",
      "17    6208\n",
      "18    6308\n",
      "19    6408\n",
      "Name: Designation, dtype: int64\n"
     ]
    }
   ],
   "source": [
    "print(bearing.d.unique())\n",
    "dia = int(input(\"Select dia from 20 to 100mm : \"))\n",
    "new_dia_values = bearing[bearing.d==dia]\n",
    "print(new_dia_values.Designation)\n"
   ]
  },
  {
   "cell_type": "code",
   "execution_count": 389,
   "metadata": {},
   "outputs": [
    {
     "data": {
      "text/html": [
       "<div>\n",
       "<style scoped>\n",
       "    .dataframe tbody tr th:only-of-type {\n",
       "        vertical-align: middle;\n",
       "    }\n",
       "\n",
       "    .dataframe tbody tr th {\n",
       "        vertical-align: top;\n",
       "    }\n",
       "\n",
       "    .dataframe thead th {\n",
       "        text-align: right;\n",
       "    }\n",
       "</style>\n",
       "<table border=\"1\" class=\"dataframe\">\n",
       "  <thead>\n",
       "    <tr style=\"text-align: right;\">\n",
       "      <th></th>\n",
       "      <th>d</th>\n",
       "      <th>D</th>\n",
       "      <th>B</th>\n",
       "      <th>C</th>\n",
       "      <th>C0</th>\n",
       "      <th>Pu</th>\n",
       "      <th>Designation</th>\n",
       "    </tr>\n",
       "  </thead>\n",
       "  <tbody>\n",
       "    <tr>\n",
       "      <th>16</th>\n",
       "      <td>40.0</td>\n",
       "      <td>68</td>\n",
       "      <td>15</td>\n",
       "      <td>17800.0</td>\n",
       "      <td>11600.0</td>\n",
       "      <td>0.49</td>\n",
       "      <td>6008</td>\n",
       "    </tr>\n",
       "    <tr>\n",
       "      <th>17</th>\n",
       "      <td>40.0</td>\n",
       "      <td>80</td>\n",
       "      <td>18</td>\n",
       "      <td>32500.0</td>\n",
       "      <td>19000.0</td>\n",
       "      <td>0.80</td>\n",
       "      <td>6208</td>\n",
       "    </tr>\n",
       "    <tr>\n",
       "      <th>18</th>\n",
       "      <td>40.0</td>\n",
       "      <td>90</td>\n",
       "      <td>23</td>\n",
       "      <td>42300.0</td>\n",
       "      <td>24000.0</td>\n",
       "      <td>1.02</td>\n",
       "      <td>6308</td>\n",
       "    </tr>\n",
       "    <tr>\n",
       "      <th>19</th>\n",
       "      <td>40.0</td>\n",
       "      <td>110</td>\n",
       "      <td>27</td>\n",
       "      <td>63700.0</td>\n",
       "      <td>36500.0</td>\n",
       "      <td>1.53</td>\n",
       "      <td>6408</td>\n",
       "    </tr>\n",
       "  </tbody>\n",
       "</table>\n",
       "</div>"
      ],
      "text/plain": [
       "       d    D   B        C       C0    Pu  Designation\n",
       "16  40.0   68  15  17800.0  11600.0  0.49         6008\n",
       "17  40.0   80  18  32500.0  19000.0  0.80         6208\n",
       "18  40.0   90  23  42300.0  24000.0  1.02         6308\n",
       "19  40.0  110  27  63700.0  36500.0  1.53         6408"
      ]
     },
     "execution_count": 389,
     "metadata": {},
     "output_type": "execute_result"
    }
   ],
   "source": [
    "new_dia_values"
   ]
  },
  {
   "cell_type": "code",
   "execution_count": 391,
   "metadata": {},
   "outputs": [
    {
     "name": "stdout",
     "output_type": "stream",
     "text": [
      "0\n",
      "1\n",
      "2\n",
      "3\n"
     ]
    }
   ],
   "source": [
    "for i in range(len(new_dia_values)):\n",
    "    print(i)\n",
    "    fac0 = float(fa/(new_dia_values.C0))\n",
    "    fac0 = round(fac0,2)\n",
    "    fac0"
   ]
  },
  {
   "cell_type": "code",
   "execution_count": 417,
   "metadata": {},
   "outputs": [],
   "source": [
    "import matplotlib.pyplot as plt\n",
    "import seaborn as sns"
   ]
  },
  {
   "cell_type": "code",
   "execution_count": 418,
   "metadata": {},
   "outputs": [
    {
     "name": "stdout",
     "output_type": "stream",
     "text": [
      "        d    D   B         C        C0     Pu  Designation\n",
      "0    20.0   42  12    9950.0    5000.0  0.212         6004\n",
      "1    20.0   47  14   13500.0    6550.0  0.280         6204\n",
      "2    20.0   52  15   16800.0    7800.0  0.335         6304\n",
      "3    20.0   72  19   30700.0   15000.0  0.640         6404\n",
      "4    25.0   47  12   11900.0    6550.0  0.275         6005\n",
      "..    ...  ...  ..       ...       ...    ...          ...\n",
      "61   95.0  170  32  114000.0   81500.0  3.000         6219\n",
      "62   95.0  200  45  159000.0  118000.0  4.150         6319\n",
      "63  100.0  150  24   63700.0   54000.0  2.040         6024\n",
      "64  100.0  180  34  127000.0   93000.0  3.350         6220\n",
      "65  100.0  215  47  174000.0  140000.0  4.750         6320\n",
      "\n",
      "[66 rows x 7 columns]\n",
      "0   Fa/C0  X_e_less  Y_e_less  X_e_great  Y_e_great     e \n",
      "1  0.0025       1.0       0.0       0.56        2.0  0.220\n",
      "2  0.0400       1.0       0.0       0.56        1.8  0.247\n",
      "3  0.0700       1.0       0.0       0.56        1.6  0.270\n",
      "4  0.1300       1.0       0.0       0.56        1.4  0.310\n",
      "5  0.2500       1.0       0.0       0.56        1.2  0.370\n",
      "6  0.5000       1.0       0.0       0.56        1.0  0.440\n"
     ]
    }
   ],
   "source": [
    "def load_data():\n",
    "    bearing = pd.read_excel(\"Book2.xlsx\")\n",
    "    bearing.d = bearing.d.fillna(method=\"ffill\")\n",
    "    bearing.C = bearing.C * 1000\n",
    "    bearing.C0 = bearing.C0 * 1000\n",
    "    e = pd.read_excel(\"equilent_load.xlsx\", header=0)\n",
    "    e = e.T.set_index(0).T\n",
    "    e = e.astype(float)\n",
    "    return (bearing, e)\n",
    "\n",
    "\n",
    "bearing, e = load_data()\n",
    "print(bearing)\n",
    "print(e)"
   ]
  },
  {
   "cell_type": "code",
   "execution_count": 421,
   "metadata": {},
   "outputs": [
    {
     "name": "stdin",
     "output_type": "stream",
     "text": [
      "ENter the rpm:  ehf\n"
     ]
    },
    {
     "ename": "ValueError",
     "evalue": "invalid literal for int() with base 10: 'ehf'",
     "output_type": "error",
     "traceback": [
      "\u001b[0;31m----------------------------------------------------------------\u001b[0m",
      "\u001b[0;31mValueError\u001b[0m                     Traceback (most recent call last)",
      "\u001b[0;32m<ipython-input-421-7c320a9391d6>\u001b[0m in \u001b[0;36m<module>\u001b[0;34m\u001b[0m\n\u001b[0;32m----> 1\u001b[0;31m \u001b[0mN\u001b[0m \u001b[0;34m=\u001b[0m \u001b[0mint\u001b[0m\u001b[0;34m(\u001b[0m\u001b[0minput\u001b[0m\u001b[0;34m(\u001b[0m\u001b[0;34m\"ENter the rpm: \"\u001b[0m\u001b[0;34m)\u001b[0m\u001b[0;34m)\u001b[0m\u001b[0;34m\u001b[0m\u001b[0;34m\u001b[0m\u001b[0m\n\u001b[0m\u001b[1;32m      2\u001b[0m \u001b[0mfr\u001b[0m \u001b[0;34m=\u001b[0m \u001b[0mint\u001b[0m\u001b[0;34m(\u001b[0m\u001b[0minput\u001b[0m\u001b[0;34m(\u001b[0m\u001b[0;34m\"ENter the Radial load\"\u001b[0m\u001b[0;34m)\u001b[0m\u001b[0;34m)\u001b[0m\u001b[0;34m\u001b[0m\u001b[0;34m\u001b[0m\u001b[0m\n\u001b[1;32m      3\u001b[0m \u001b[0mfa\u001b[0m \u001b[0;34m=\u001b[0m \u001b[0mint\u001b[0m\u001b[0;34m(\u001b[0m\u001b[0minput\u001b[0m\u001b[0;34m(\u001b[0m\u001b[0;34m\"ENter the axial load\"\u001b[0m\u001b[0;34m)\u001b[0m\u001b[0;34m)\u001b[0m\u001b[0;34m\u001b[0m\u001b[0;34m\u001b[0m\u001b[0m\n\u001b[1;32m      4\u001b[0m \u001b[0myears_to_run\u001b[0m \u001b[0;34m=\u001b[0m \u001b[0mint\u001b[0m\u001b[0;34m(\u001b[0m\u001b[0minput\u001b[0m\u001b[0;34m(\u001b[0m\u001b[0;34m\"years_to_run: \"\u001b[0m\u001b[0;34m)\u001b[0m\u001b[0;34m)\u001b[0m\u001b[0;34m\u001b[0m\u001b[0;34m\u001b[0m\u001b[0m\n\u001b[1;32m      5\u001b[0m \u001b[0mper_day_run\u001b[0m \u001b[0;34m=\u001b[0m  \u001b[0mint\u001b[0m\u001b[0;34m(\u001b[0m\u001b[0minput\u001b[0m\u001b[0;34m(\u001b[0m\u001b[0;34m\"years_to_run in hours: \"\u001b[0m\u001b[0;34m)\u001b[0m\u001b[0;34m)\u001b[0m\u001b[0;34m\u001b[0m\u001b[0;34m\u001b[0m\u001b[0m\n",
      "\u001b[0;31mValueError\u001b[0m: invalid literal for int() with base 10: 'ehf'"
     ]
    }
   ],
   "source": [
    "N = int(input(\"ENter the rpm: \"))\n",
    "fr = int(input(\"ENter the Radial load\"))\n",
    "fa = int(input(\"ENter the axial load\"))\n",
    "years_to_run = int(input(\"years_to_run: \"))\n",
    "per_day_run =  int(input(\"years_to_run in hours: \"))\n",
    "total_life = per_day_run*years_to_run*365\n",
    "total_life\n"
   ]
  },
  {
   "cell_type": "code",
   "execution_count": 432,
   "metadata": {},
   "outputs": [
    {
     "data": {
      "text/html": [
       "<div>\n",
       "<style scoped>\n",
       "    .dataframe tbody tr th:only-of-type {\n",
       "        vertical-align: middle;\n",
       "    }\n",
       "\n",
       "    .dataframe tbody tr th {\n",
       "        vertical-align: top;\n",
       "    }\n",
       "\n",
       "    .dataframe thead th {\n",
       "        text-align: right;\n",
       "    }\n",
       "</style>\n",
       "<table border=\"1\" class=\"dataframe\">\n",
       "  <thead>\n",
       "    <tr style=\"text-align: right;\">\n",
       "      <th></th>\n",
       "      <th>N</th>\n",
       "      <th>Fr</th>\n",
       "      <th>Fa</th>\n",
       "      <th>years_to run</th>\n",
       "      <th>per_day_to_run</th>\n",
       "      <th>Life</th>\n",
       "    </tr>\n",
       "  </thead>\n",
       "  <tbody>\n",
       "    <tr>\n",
       "      <th>0</th>\n",
       "      <td>1200</td>\n",
       "      <td>2000</td>\n",
       "      <td>3000</td>\n",
       "      <td>3</td>\n",
       "      <td>8</td>\n",
       "      <td>8760</td>\n",
       "    </tr>\n",
       "  </tbody>\n",
       "</table>\n",
       "</div>"
      ],
      "text/plain": [
       "      N    Fr    Fa  years_to run  per_day_to_run  Life\n",
       "0  1200  2000  3000             3               8  8760"
      ]
     },
     "execution_count": 432,
     "metadata": {},
     "output_type": "execute_result"
    }
   ],
   "source": [
    "di = {\"N\":N,\"Fr\":fr,\"Fa\":fa,\"years_to run\":years_to_run,\"per_day_to_run\":per_day_run,\"Life\":total_life}\n",
    "user = pd.DataFrame(di,index=[0])\n",
    "user"
   ]
  },
  {
   "cell_type": "code",
   "execution_count": 434,
   "metadata": {},
   "outputs": [],
   "source": [
    "user_input = pd.DataFrame(di,index=[0]).T\n",
    "user_input.columns = [\"InputValues\"]"
   ]
  },
  {
   "cell_type": "code",
   "execution_count": 435,
   "metadata": {},
   "outputs": [
    {
     "data": {
      "text/html": [
       "<div>\n",
       "<style scoped>\n",
       "    .dataframe tbody tr th:only-of-type {\n",
       "        vertical-align: middle;\n",
       "    }\n",
       "\n",
       "    .dataframe tbody tr th {\n",
       "        vertical-align: top;\n",
       "    }\n",
       "\n",
       "    .dataframe thead th {\n",
       "        text-align: right;\n",
       "    }\n",
       "</style>\n",
       "<table border=\"1\" class=\"dataframe\">\n",
       "  <thead>\n",
       "    <tr style=\"text-align: right;\">\n",
       "      <th></th>\n",
       "      <th>InputValues</th>\n",
       "    </tr>\n",
       "  </thead>\n",
       "  <tbody>\n",
       "    <tr>\n",
       "      <th>N</th>\n",
       "      <td>1200</td>\n",
       "    </tr>\n",
       "    <tr>\n",
       "      <th>Fr</th>\n",
       "      <td>2000</td>\n",
       "    </tr>\n",
       "    <tr>\n",
       "      <th>Fa</th>\n",
       "      <td>3000</td>\n",
       "    </tr>\n",
       "    <tr>\n",
       "      <th>years_to run</th>\n",
       "      <td>3</td>\n",
       "    </tr>\n",
       "    <tr>\n",
       "      <th>per_day_to_run</th>\n",
       "      <td>8</td>\n",
       "    </tr>\n",
       "    <tr>\n",
       "      <th>Life</th>\n",
       "      <td>8760</td>\n",
       "    </tr>\n",
       "  </tbody>\n",
       "</table>\n",
       "</div>"
      ],
      "text/plain": [
       "                InputValues\n",
       "N                      1200\n",
       "Fr                     2000\n",
       "Fa                     3000\n",
       "years_to run              3\n",
       "per_day_to_run            8\n",
       "Life                   8760"
      ]
     },
     "execution_count": 435,
     "metadata": {},
     "output_type": "execute_result"
    }
   ],
   "source": [
    "user_input"
   ]
  },
  {
   "cell_type": "code",
   "execution_count": null,
   "metadata": {},
   "outputs": [],
   "source": []
  }
 ],
 "metadata": {
  "kernelspec": {
   "display_name": "Python 3",
   "language": "python",
   "name": "python3"
  },
  "language_info": {
   "codemirror_mode": {
    "name": "ipython",
    "version": 3
   },
   "file_extension": ".py",
   "mimetype": "text/x-python",
   "name": "python",
   "nbconvert_exporter": "python",
   "pygments_lexer": "ipython3",
   "version": "3.8.3"
  }
 },
 "nbformat": 4,
 "nbformat_minor": 4
}
